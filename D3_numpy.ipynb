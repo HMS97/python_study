{
 "cells": [
  {
   "cell_type": "code",
   "execution_count": 1,
   "metadata": {},
   "outputs": [
    {
     "data": {
      "text/plain": [
       "(5, 5)"
      ]
     },
     "execution_count": 1,
     "metadata": {},
     "output_type": "execute_result"
    }
   ],
   "source": [
    "import numpy as np\n",
    "a = np.random.rand(5,5)\n",
    "b = np.random.rand(5,5)\n",
    "a.shape"
   ]
  },
  {
   "cell_type": "code",
   "execution_count": 2,
   "metadata": {},
   "outputs": [
    {
     "data": {
      "text/plain": [
       "25"
      ]
     },
     "execution_count": 2,
     "metadata": {},
     "output_type": "execute_result"
    }
   ],
   "source": [
    "a.size"
   ]
  },
  {
   "cell_type": "code",
   "execution_count": 3,
   "metadata": {},
   "outputs": [
    {
     "data": {
      "text/plain": [
       "0.717164142231078"
      ]
     },
     "execution_count": 3,
     "metadata": {},
     "output_type": "execute_result"
    }
   ],
   "source": [
    "a[2,3]"
   ]
  },
  {
   "cell_type": "code",
   "execution_count": 4,
   "metadata": {},
   "outputs": [
    {
     "data": {
      "text/plain": [
       "array([[0.65668937, 1.44679112, 0.74918151, 1.53235017, 1.09445279],\n",
       "       [0.54934096, 0.53543809, 1.09733087, 1.10998093, 1.01531029],\n",
       "       [0.44953624, 0.81475904, 1.72053664, 1.11850836, 1.20637557],\n",
       "       [1.31666328, 0.75599772, 0.85290334, 0.53184316, 1.68927748],\n",
       "       [0.91404054, 1.7925    , 0.29303057, 0.96654022, 0.67276462]])"
      ]
     },
     "execution_count": 4,
     "metadata": {},
     "output_type": "execute_result"
    }
   ],
   "source": [
    "c = a+b\n",
    "print(c)"
   ]
  },
  {
   "cell_type": "code",
   "execution_count": 5,
   "metadata": {},
   "outputs": [
    {
     "data": {
      "text/plain": [
       "array([[-0.0699497 , -0.12533062, -0.42886845, -0.1415441 , -0.36224474],\n",
       "       [-0.3260418 , -0.07003885,  0.40348661,  0.65844807,  0.30169101],\n",
       "       [-0.40672054, -0.01250873,  0.21637523,  0.31581993, -0.69373798],\n",
       "       [ 0.64098562, -0.72092428, -0.08639695,  0.05125075,  0.26199417],\n",
       "       [ 0.14080595, -0.18400275, -0.17056311,  0.39097504,  0.46933927]])"
      ]
     },
     "execution_count": 5,
     "metadata": {},
     "output_type": "execute_result"
    }
   ],
   "source": [
    "d = a-b\n",
    "print(d)"
   ]
  },
  {
   "cell_type": "code",
   "execution_count": 6,
   "metadata": {},
   "outputs": [
    {
     "data": {
      "text/plain": [
       "array([[0.84082678, 1.37221201, 0.93393264, 0.73144472, 1.13509427],\n",
       "       [1.01699611, 1.77232708, 1.27877082, 0.84913118, 1.57527038],\n",
       "       [0.93935356, 1.32175523, 1.27635611, 0.74325793, 1.6166749 ],\n",
       "       [1.00307685, 2.11272065, 1.23394763, 1.32782861, 1.39058972],\n",
       "       [1.01994099, 1.74897103, 1.08687648, 0.97501521, 1.27176019]])"
      ]
     },
     "execution_count": 6,
     "metadata": {},
     "output_type": "execute_result"
    }
   ],
   "source": [
    "e = a.dot(b)\n",
    "print(e)"
   ]
  },
  {
   "cell_type": "code",
   "execution_count": 7,
   "metadata": {},
   "outputs": [
    {
     "data": {
      "text/plain": [
       "array([[0.80747057, 0.84055864, 0.27190108, 0.83088048, 0.50264934],\n",
       "       [0.25508746, 0.76864899, 2.16304661, 3.9165012 , 1.84552372],\n",
       "       [0.05000334, 0.96975892, 1.28770214, 1.78690539, 0.26979313],\n",
       "       [2.89731188, 0.02374766, 0.81603976, 1.21328157, 1.36712287],\n",
       "       [1.36419982, 0.81380977, 0.26416984, 2.35857779, 5.61436371]])"
      ]
     },
     "execution_count": 7,
     "metadata": {},
     "output_type": "execute_result"
    }
   ],
   "source": [
    "f = a/b\n",
    "print(f)"
   ]
  },
  {
   "cell_type": "code",
   "execution_count": 8,
   "metadata": {},
   "outputs": [
    {
     "name": "stdout",
     "output_type": "stream",
     "text": [
      "[[1. 1. 1. 1. 1.]\n",
      " [1. 0. 0. 0. 1.]\n",
      " [1. 0. 0. 0. 1.]\n",
      " [1. 0. 0. 0. 1.]\n",
      " [1. 1. 1. 1. 1.]]\n"
     ]
    }
   ],
   "source": [
    "g = np.ones((5,5))\n",
    "g[1:-1,1:-1] = 0\n",
    "print(g)"
   ]
  },
  {
   "cell_type": "code",
   "execution_count": 10,
   "metadata": {},
   "outputs": [
    {
     "name": "stdout",
     "output_type": "stream",
     "text": [
      "[[15 42 44 67 42]\n",
      " [74 66 47 74 70]\n",
      " [55 62  3 81 70]\n",
      " [50 66 31 86 63]\n",
      " [37 58 57 80 32]]\n"
     ]
    }
   ],
   "source": [
    "h=np.random.randint(1,100,[5,5])\n",
    "print(h)"
   ]
  },
  {
   "cell_type": "code",
   "execution_count": 11,
   "metadata": {},
   "outputs": [
    {
     "name": "stdout",
     "output_type": "stream",
     "text": [
      "[67 74 81 86 80]\n"
     ]
    }
   ],
   "source": [
    "i=(np.amax(h,axis=1))\n",
    "print(i)"
   ]
  },
  {
   "cell_type": "code",
   "execution_count": 12,
   "metadata": {},
   "outputs": [
    {
     "name": "stdout",
     "output_type": "stream",
     "text": [
      "[15 47  3 31 32]\n"
     ]
    }
   ],
   "source": [
    "j=((np.amin(h,axis=1)))\n",
    "print(j)"
   ]
  },
  {
   "cell_type": "code",
   "execution_count": 14,
   "metadata": {},
   "outputs": [
    {
     "name": "stdout",
     "output_type": "stream",
     "text": [
      "86\n",
      "3\n"
     ]
    }
   ],
   "source": [
    "k=np.max(i)\n",
    "l=np.min(j)\n",
    "print(k)\n",
    "print(l)"
   ]
  },
  {
   "cell_type": "code",
   "execution_count": 15,
   "metadata": {},
   "outputs": [
    {
     "name": "stdout",
     "output_type": "stream",
     "text": [
      "[[0.14457831 0.46987952 0.4939759  0.77108434 0.46987952]\n",
      " [0.85542169 0.75903614 0.53012048 0.85542169 0.80722892]\n",
      " [0.62650602 0.71084337 0.         0.93975904 0.80722892]\n",
      " [0.56626506 0.75903614 0.3373494  1.         0.72289157]\n",
      " [0.40963855 0.6626506  0.65060241 0.92771084 0.34939759]]\n"
     ]
    }
   ],
   "source": [
    "m=(h-l)/(k-l)\n",
    "print(m)"
   ]
  },
  {
   "cell_type": "code",
   "execution_count": 2,
   "metadata": {},
   "outputs": [
    {
     "name": "stdout",
     "output_type": "stream",
     "text": [
      "[[ 0  1  2  3]\n",
      " [ 4  5  6  7]\n",
      " [ 8  9 10 11]\n",
      " [12 13 14 15]]\n",
      "[[0, 1, 2, 3], [4, 5, 6, 7], [8, 9, 10, 11], [12, 13, 14, 15]]\n"
     ]
    }
   ],
   "source": [
    "import numpy as np\n",
    "array1 = np.arange(16).reshape(4,4)\n",
    "print(array1)\n",
    "list1 = array1.tolist()\n",
    "print(list1)"
   ]
  },
  {
   "cell_type": "code",
   "execution_count": null,
   "metadata": {},
   "outputs": [],
   "source": []
  }
 ],
 "metadata": {
  "kernelspec": {
   "display_name": "Python 3",
   "language": "python",
   "name": "python3"
  },
  "language_info": {
   "codemirror_mode": {
    "name": "ipython",
    "version": 3
   },
   "file_extension": ".py",
   "mimetype": "text/x-python",
   "name": "python",
   "nbconvert_exporter": "python",
   "pygments_lexer": "ipython3",
   "version": "3.7.0"
  }
 },
 "nbformat": 4,
 "nbformat_minor": 2
}
