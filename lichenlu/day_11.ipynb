{
 "cells": [
  {
   "cell_type": "code",
   "execution_count": 12,
   "metadata": {},
   "outputs": [
    {
     "name": "stdout",
     "output_type": "stream",
     "text": [
      "dict_keys(['data', 'target', 'target_names', 'DESCR', 'feature_names'])\n",
      "(150, 4)\n",
      "[5.1 3.5 1.4 0.2]\n",
      "[0 0 0 0 0 0 0 0 0 0 0 0 0 0 0 0 0 0 0 0 0 0 0 0 0 0 0 0 0 0 0 0 0 0 0 0 0\n",
      " 0 0 0 0 0 0 0 0 0 0 0 0 0 1 1 1 1 1 1 1 1 1 1 1 1 1 1 1 1 1 1 1 1 1 1 1 1\n",
      " 1 1 1 1 1 1 1 1 1 1 1 1 1 1 1 1 1 1 1 1 1 1 1 1 1 1 2 2 2 2 2 2 2 2 2 2 2\n",
      " 2 2 2 2 2 2 2 2 2 2 2 2 2 2 2 2 2 2 2 2 2 2 2 2 2 2 2 2 2 2 2 2 2 2 2 2 2\n",
      " 2 2]\n",
      "target_names: ['setosa' 'versicolor' 'virginica']\n"
     ]
    }
   ],
   "source": [
    "import numpy as np\n",
    "from sklearn import datasets\n",
    "from sklearn.model_selection import train_test_split\n",
    "from sklearn.linear_model import LogisticRegression\n",
    "\n",
    "\n",
    "def load_data():\n",
    "    iris = datasets.load_iris()\n",
    "    print(iris.keys())\n",
    "    n_samples, n_features = iris.data.shape\n",
    "    print((n_samples, n_features))\n",
    "    print(iris.data[0])\n",
    "    #print(iris.target.shape)\n",
    "    print(iris.target)#目标值\n",
    "    print(\"target_names:\",iris.target_names)\n",
    "    #print(\"feature_names:\",iris.feature_names)#特征名称\n",
    "    \n",
    "def main():\n",
    "    load_data()\n",
    "\n",
    "if __name__ == '__main__':\n",
    "    main()\n"
   ]
  },
  {
   "cell_type": "code",
   "execution_count": 11,
   "metadata": {},
   "outputs": [
    {
     "name": "stdout",
     "output_type": "stream",
     "text": [
      "w:  [[ 0.41682398  1.34687247 -2.15760284 -0.98058923]\n",
      " [ 0.22719571 -1.32234908  0.58097932 -1.25562927]\n",
      " [-1.559254   -1.34663487  2.2897358   2.25775566]]\n",
      "b:  [ 0.24822199  1.07209792 -1.15180528]\n",
      "precision:  0.9666666666666667\n",
      "MSE:  0.03333333333333333\n"
     ]
    }
   ],
   "source": [
    "import numpy as np\n",
    "from sklearn import datasets\n",
    "from sklearn.model_selection import train_test_split\n",
    "from sklearn.linear_model import LogisticRegression\n",
    "\n",
    "\n",
    "def load_data():\n",
    "    # 共150条数据，训练120条，测试30条，进行2,8分进行模型训练\n",
    "    # 每条数据类型为 x{nbarray} [6.4, 3.1, 5.5, 1.8]\n",
    "    inputdata = datasets.load_iris()\n",
    "    # 切分，测试训练2,8分\n",
    "    x_train, x_test, y_train, y_test = train_test_split(inputdata.data, inputdata.target, test_size = 0.2, random_state = 0)\n",
    "    return x_train, x_test, y_train, y_test\n",
    "\n",
    "def main():\n",
    "    #读取数据，并显示数据格式\n",
    "    load_data()\n",
    "    # 训练集x ,测试集x,训练集label,测试集label\n",
    "    x_train, x_test, y_train, y_test = prediction_data()\n",
    "    # l2为正则项\n",
    "    model = LogisticRegression(penalty = 'l2')\n",
    "    model.fit(x_train, y_train)\n",
    "\n",
    "    print(\"w: \", model.coef_)\n",
    "    print(\"b: \", model.intercept_)\n",
    "    # 准确率\n",
    "    print(\"precision: \", model.score(x_test, y_test))\n",
    "    print(\"MSE: \", np.mean((model.predict(x_test) - y_test) ** 2))\n",
    "    \n",
    "if __name__ == '__main__':\n",
    "    main()"
   ]
  },
  {
   "cell_type": "code",
   "execution_count": null,
   "metadata": {},
   "outputs": [],
   "source": []
  }
 ],
 "metadata": {
  "kernelspec": {
   "display_name": "Python 3",
   "language": "python",
   "name": "python3"
  },
  "language_info": {
   "codemirror_mode": {
    "name": "ipython",
    "version": 3
   },
   "file_extension": ".py",
   "mimetype": "text/x-python",
   "name": "python",
   "nbconvert_exporter": "python",
   "pygments_lexer": "ipython3",
   "version": "3.7.0"
  }
 },
 "nbformat": 4,
 "nbformat_minor": 2
}
