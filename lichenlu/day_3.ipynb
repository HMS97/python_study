{
 "cells": [
  {
   "cell_type": "code",
   "execution_count": 3,
   "metadata": {},
   "outputs": [
    {
     "name": "stdout",
     "output_type": "stream",
     "text": [
      "[[0.39017779 0.38680914 0.23173568 0.3206731  0.38565798]\n",
      " [0.05951755 0.04398937 0.59163567 0.85007467 0.93991994]\n",
      " [0.0654059  0.82260195 0.85449231 0.9272378  0.73396666]\n",
      " [0.8960463  0.72395629 0.4707016  0.24418392 0.86017986]\n",
      " [0.72285951 0.48526053 0.22908274 0.17349619 0.08396595]]\n",
      "size: 25\n",
      "shape: (5, 5)\n",
      "矩阵取一行: [[0.39017779 0.38680914 0.23173568 0.3206731  0.38565798]]\n",
      "矩阵取一列: [[0.38680914]\n",
      " [0.04398937]\n",
      " [0.82260195]\n",
      " [0.72395629]\n",
      " [0.48526053]]\n"
     ]
    }
   ],
   "source": [
    "import numpy.matlib\n",
    "import numpy as np\n",
    "a = np.matlib.rand(5,5)\n",
    "print(a)\n",
    "print(\"size:\",a.size)\n",
    "print(\"shape:\",a.shape)\n",
    "print('矩阵取一行:',a[0])\n",
    "print('矩阵取一列:',a[:,1])"
   ]
  },
  {
   "cell_type": "markdown",
   "metadata": {},
   "source": []
  },
  {
   "cell_type": "code",
   "execution_count": 17,
   "metadata": {},
   "outputs": [
    {
     "name": "stdout",
     "output_type": "stream",
     "text": [
      "乘: [[0.79470772 1.31320069]\n",
      " [1.12440799 1.85509525]]\n",
      "除: [[ 1.0224207   2.47115602]\n",
      " [ 2.50798054 10.98203437]]\n",
      "加: [[1.11302322 3.18051825]\n",
      " [0.75146949 4.2209429 ]]\n",
      "减: [[0.01233906 1.34797703]\n",
      " [0.32303525 3.51639762]]\n"
     ]
    }
   ],
   "source": [
    "import numpy as np\n",
    "a = np.empty([2,2])\n",
    "b = np.empty([2,2])\n",
    "print ('乘:',np.dot(a,b))\n",
    "print ('除:',a / b)\n",
    "print('加:',a + b)\n",
    "print('减:',a - b)\n"
   ]
  },
  {
   "cell_type": "code",
   "execution_count": 5,
   "metadata": {},
   "outputs": [
    {
     "name": "stdout",
     "output_type": "stream",
     "text": [
      "[[0.39527659 0.4402957  0.00424192 0.19526176 0.35246291]\n",
      " [0.         0.         0.5797048  0.89762655 1.        ]\n",
      " [0.00703903 1.         1.         1.         0.75938744]\n",
      " [1.         0.87330585 0.38633699 0.09378244 0.90684069]\n",
      " [0.79296972 0.56674034 0.         0.         0.        ]]\n",
      "数据标准化：\n",
      " [[0.39527659 0.4402957  0.00424192 0.19526176 0.35246291]\n",
      " [0.         0.         0.5797048  0.89762655 1.        ]\n",
      " [0.00703903 1.         1.         1.         0.75938744]\n",
      " [1.         0.87330585 0.38633699 0.09378244 0.90684069]\n",
      " [0.79296972 0.56674034 0.         0.         0.        ]]\n",
      "矩阵c:\n",
      "[[1. 1. 1. 1. 1.]\n",
      " [1. 0. 0. 0. 1.]\n",
      " [1. 0. 0. 0. 1.]\n",
      " [1. 0. 0. 0. 1.]\n",
      " [1. 1. 1. 1. 1.]]\n"
     ]
    }
   ],
   "source": [
    "##########\n",
    "import numpy as np\n",
    "a = np.empty([5,5])\n",
    "print(a)\n",
    "amax,amin = a.max(axis=0),a.min(axis=0)\n",
    "a=(a-amin)/(amax-amin)\n",
    "print(\"数据标准化：\\n\",a)\n",
    "\n",
    "###########创建二维数组 边界值为1##############\n",
    "#创建二维数组，边界为1，中间为0\n",
    "c = np.ones((5,5))\n",
    "c[1:-1,1:-1] = 0\n",
    "print('矩阵c:\\n{}'.format(c))\n"
   ]
  },
  {
   "cell_type": "code",
   "execution_count": 38,
   "metadata": {},
   "outputs": [
    {
     "data": {
      "text/plain": [
       "numpy.ndarray"
      ]
     },
     "execution_count": 38,
     "metadata": {},
     "output_type": "execute_result"
    }
   ],
   "source": [
    "import numpy as np\n",
    "a = [1,2,3,4,5]\n",
    "type(a)\n",
    "b = np.array(a)\n",
    "type(b)\n",
    "\n",
    "\n"
   ]
  },
  {
   "cell_type": "code",
   "execution_count": 40,
   "metadata": {
    "scrolled": true
   },
   "outputs": [
    {
     "name": "stdout",
     "output_type": "stream",
     "text": [
      "[37 29 31  1 46 10 13 47  2 34]\n",
      "[[37 29 31  1 46]\n",
      " [10 13 47  2 34]]\n"
     ]
    }
   ],
   "source": [
    "import numpy as np\n",
    "array_1 = np.random.randint(1,50,10)\n",
    "print(array_1)\n",
    "array_2 = array_1.reshape(2,5)\n",
    "print(array_2)"
   ]
  },
  {
   "cell_type": "code",
   "execution_count": 72,
   "metadata": {},
   "outputs": [
    {
     "name": "stdout",
     "output_type": "stream",
     "text": [
      "   school   姓名 性别          生日  年龄    裸右   裸左 带镜右眼 带镜左眼  电脑验光右      ...       \\\n",
      "0  junior  张熙涵  男   2000/3/25  18  0.08  1.0  NaN  NaN    NaN      ...        \n",
      "1  junior   郭鑫  男  1999/12/22  18  0.20  0.1  0.5  0.1  -3.25      ...        \n",
      "2  junior  郭佳宝  男   1999/8/27  18  1.00  0.3  NaN  NaN    NaN      ...        \n",
      "\n",
      "  Unnamed: 233 Unnamed: 234 Unnamed: 235 Unnamed: 236  Unnamed: 237  \\\n",
      "0          NaN          NaN          NaN          NaN           NaN   \n",
      "1          NaN          NaN          NaN          NaN           NaN   \n",
      "2          NaN          NaN          NaN          NaN           NaN   \n",
      "\n",
      "   Unnamed: 238  Unnamed: 239  Unnamed: 240  Unnamed: 241  Unnamed: 242  \n",
      "0           NaN           NaN           NaN           NaN           NaN  \n",
      "1           NaN           NaN           NaN           NaN           NaN  \n",
      "2           NaN           NaN           NaN           NaN           NaN  \n",
      "\n",
      "[3 rows x 243 columns]\n",
      "(1461, 243)\n"
     ]
    },
    {
     "ename": "TypeError",
     "evalue": "unsupported operand type(s) for -: 'str' and 'int'",
     "output_type": "error",
     "traceback": [
      "\u001b[1;31m---------------------------------------------------------------------------\u001b[0m",
      "\u001b[1;31mTypeError\u001b[0m                                 Traceback (most recent call last)",
      "\u001b[1;32m<ipython-input-72-d3a593bc17ea>\u001b[0m in \u001b[0;36m<module>\u001b[1;34m()\u001b[0m\n\u001b[0;32m     10\u001b[0m \u001b[1;32mdef\u001b[0m \u001b[0mf\u001b[0m\u001b[1;33m(\u001b[0m\u001b[0mx\u001b[0m\u001b[1;33m)\u001b[0m\u001b[1;33m:\u001b[0m\u001b[1;33m\u001b[0m\u001b[0m\n\u001b[0;32m     11\u001b[0m       \u001b[1;32mreturn\u001b[0m \u001b[0mx\u001b[0m \u001b[1;33m-\u001b[0m \u001b[1;36m1\u001b[0m\u001b[1;33m\u001b[0m\u001b[0m\n\u001b[1;32m---> 12\u001b[1;33m \u001b[0mdf\u001b[0m\u001b[1;33m[\u001b[0m\u001b[1;34m'年龄'\u001b[0m\u001b[1;33m]\u001b[0m \u001b[1;33m=\u001b[0m \u001b[0mdf\u001b[0m\u001b[1;33m[\u001b[0m\u001b[1;34m'年龄'\u001b[0m\u001b[1;33m]\u001b[0m\u001b[1;33m.\u001b[0m\u001b[0mapply\u001b[0m\u001b[1;33m(\u001b[0m\u001b[0mf\u001b[0m\u001b[1;33m)\u001b[0m\u001b[1;33m\u001b[0m\u001b[0m\n\u001b[0m\u001b[0;32m     13\u001b[0m \u001b[0mprint\u001b[0m\u001b[1;33m(\u001b[0m\u001b[0mdf\u001b[0m\u001b[1;33m)\u001b[0m\u001b[1;33m\u001b[0m\u001b[0m\n",
      "\u001b[1;32m~\\Anaconda3\\lib\\site-packages\\pandas\\core\\series.py\u001b[0m in \u001b[0;36mapply\u001b[1;34m(self, func, convert_dtype, args, **kwds)\u001b[0m\n\u001b[0;32m   3192\u001b[0m             \u001b[1;32melse\u001b[0m\u001b[1;33m:\u001b[0m\u001b[1;33m\u001b[0m\u001b[0m\n\u001b[0;32m   3193\u001b[0m                 \u001b[0mvalues\u001b[0m \u001b[1;33m=\u001b[0m \u001b[0mself\u001b[0m\u001b[1;33m.\u001b[0m\u001b[0mastype\u001b[0m\u001b[1;33m(\u001b[0m\u001b[0mobject\u001b[0m\u001b[1;33m)\u001b[0m\u001b[1;33m.\u001b[0m\u001b[0mvalues\u001b[0m\u001b[1;33m\u001b[0m\u001b[0m\n\u001b[1;32m-> 3194\u001b[1;33m                 \u001b[0mmapped\u001b[0m \u001b[1;33m=\u001b[0m \u001b[0mlib\u001b[0m\u001b[1;33m.\u001b[0m\u001b[0mmap_infer\u001b[0m\u001b[1;33m(\u001b[0m\u001b[0mvalues\u001b[0m\u001b[1;33m,\u001b[0m \u001b[0mf\u001b[0m\u001b[1;33m,\u001b[0m \u001b[0mconvert\u001b[0m\u001b[1;33m=\u001b[0m\u001b[0mconvert_dtype\u001b[0m\u001b[1;33m)\u001b[0m\u001b[1;33m\u001b[0m\u001b[0m\n\u001b[0m\u001b[0;32m   3195\u001b[0m \u001b[1;33m\u001b[0m\u001b[0m\n\u001b[0;32m   3196\u001b[0m         \u001b[1;32mif\u001b[0m \u001b[0mlen\u001b[0m\u001b[1;33m(\u001b[0m\u001b[0mmapped\u001b[0m\u001b[1;33m)\u001b[0m \u001b[1;32mand\u001b[0m \u001b[0misinstance\u001b[0m\u001b[1;33m(\u001b[0m\u001b[0mmapped\u001b[0m\u001b[1;33m[\u001b[0m\u001b[1;36m0\u001b[0m\u001b[1;33m]\u001b[0m\u001b[1;33m,\u001b[0m \u001b[0mSeries\u001b[0m\u001b[1;33m)\u001b[0m\u001b[1;33m:\u001b[0m\u001b[1;33m\u001b[0m\u001b[0m\n",
      "\u001b[1;32mpandas/_libs/src\\inference.pyx\u001b[0m in \u001b[0;36mpandas._libs.lib.map_infer\u001b[1;34m()\u001b[0m\n",
      "\u001b[1;32m<ipython-input-72-d3a593bc17ea>\u001b[0m in \u001b[0;36mf\u001b[1;34m(x)\u001b[0m\n\u001b[0;32m      9\u001b[0m \u001b[1;33m\u001b[0m\u001b[0m\n\u001b[0;32m     10\u001b[0m \u001b[1;32mdef\u001b[0m \u001b[0mf\u001b[0m\u001b[1;33m(\u001b[0m\u001b[0mx\u001b[0m\u001b[1;33m)\u001b[0m\u001b[1;33m:\u001b[0m\u001b[1;33m\u001b[0m\u001b[0m\n\u001b[1;32m---> 11\u001b[1;33m       \u001b[1;32mreturn\u001b[0m \u001b[0mx\u001b[0m \u001b[1;33m-\u001b[0m \u001b[1;36m1\u001b[0m\u001b[1;33m\u001b[0m\u001b[0m\n\u001b[0m\u001b[0;32m     12\u001b[0m \u001b[0mdf\u001b[0m\u001b[1;33m[\u001b[0m\u001b[1;34m'年龄'\u001b[0m\u001b[1;33m]\u001b[0m \u001b[1;33m=\u001b[0m \u001b[0mdf\u001b[0m\u001b[1;33m[\u001b[0m\u001b[1;34m'年龄'\u001b[0m\u001b[1;33m]\u001b[0m\u001b[1;33m.\u001b[0m\u001b[0mapply\u001b[0m\u001b[1;33m(\u001b[0m\u001b[0mf\u001b[0m\u001b[1;33m)\u001b[0m\u001b[1;33m\u001b[0m\u001b[0m\n\u001b[0;32m     13\u001b[0m \u001b[0mprint\u001b[0m\u001b[1;33m(\u001b[0m\u001b[0mdf\u001b[0m\u001b[1;33m)\u001b[0m\u001b[1;33m\u001b[0m\u001b[0m\n",
      "\u001b[1;31mTypeError\u001b[0m: unsupported operand type(s) for -: 'str' and 'int'"
     ]
    }
   ],
   "source": [
    "import pandas as pd\n",
    "import numpy as np\n",
    "import os\n",
    "os.getcwd()\n",
    "df = pd.DataFrame(pd.read_csv('hancheng.csv'))\n",
    "print(df.head(3))         ###head\n",
    "#print(df.describe)       ###describe\n",
    "print(df.shape)           ###shape\n",
    "      \n",
    "def f(x):\n",
    "      return x - 1\n",
    "df['年龄'] = df['年龄'].apply(f)\n",
    "print(df)\n",
    "\n"
   ]
  },
  {
   "cell_type": "code",
   "execution_count": 24,
   "metadata": {},
   "outputs": [
    {
     "name": "stdout",
     "output_type": "stream",
     "text": [
      "     id       date         city category  age   price\n",
      "0  1001 2013-01-02     Beijing     100-A   23  1200.0\n",
      "1  1002 2013-01-03           SH    100-B   44     NaN\n",
      "2  1003 2013-01-04   guangzhou     110-A   54  2133.0\n",
      "3  1004 2013-01-05     Shenzhen    110-C   32  5433.0\n",
      "4  1005 2013-01-06     shanghai    210-A   34     NaN\n",
      "5  1006 2013-01-07     Beijing     130-F   32  4432.0\n",
      "0    1001\n",
      "1    1002\n",
      "2    1003\n",
      "3    1004\n",
      "4    1005\n",
      "5    1006\n",
      "Name: id, dtype: int64\n",
      "          city category\n",
      "2   guangzhou     110-A\n",
      "3     Shenzhen    110-C\n",
      "        date         city category  age   price\n",
      "0 2013-01-02     Beijing     100-A   23  1200.0\n",
      "1 2013-01-03           SH    100-B   44     NaN\n",
      "2 2013-01-04   guangzhou     110-A   54  2133.0\n",
      "3 2013-01-05     Shenzhen    110-C   32  5433.0\n",
      "4 2013-01-06     shanghai    210-A   34     NaN\n",
      "5 2013-01-07     Beijing     130-F   32  4432.0\n",
      "     id       date         city category  age   price\n",
      "0  1001 2013-01-02     Beijing     100-A   23  1200.0\n",
      "1  1002 2013-01-03           Sh    100-B   44     NaN\n",
      "2  1003 2013-01-04   guangzhou     110-A   54  2133.0\n",
      "3  1004 2013-01-05     Shenzhen    110-C   32  5433.0\n",
      "4  1005 2013-01-06     Shanghai    210-A   34     NaN\n",
      "5  1006 2013-01-07     Beijing     130-F   32  4432.0\n",
      "merge:\n",
      "      id       date         city category   age   price  gender pay  m-point\n",
      "0  1001 2013-01-02     Beijing     100-A  23.0  1200.0    male   Y       10\n",
      "1  1002 2013-01-03           Sh    100-B  44.0     NaN  female   N       12\n",
      "2  1003 2013-01-04   guangzhou     110-A  54.0  2133.0    male   Y       20\n",
      "3  1004 2013-01-05     Shenzhen    110-C  32.0  5433.0  female   Y       40\n",
      "4  1005 2013-01-06     Shanghai    210-A  34.0     NaN    male   N       40\n",
      "5  1006 2013-01-07     Beijing     130-F  32.0  4432.0  female   Y       40\n",
      "6  1007        NaT          NaN      NaN   NaN     NaN    male   N       30\n",
      "7  1008        NaT          NaN      NaN   NaN     NaN  female   Y       20\n"
     ]
    }
   ],
   "source": [
    "# 索引 切片 删除 merge\n",
    "import pandas as pd\n",
    "df = pd.DataFrame({\"id\":[1001,1002,1003,1004,1005,1006], \n",
    " \"date\":pd.date_range('20130102', periods=6),\n",
    "  \"city\":['Beijing ', 'SH', ' guangzhou ', 'Shenzhen', 'shanghai', 'Beijing '],\n",
    " \"age\":[23,44,54,32,34,32],\n",
    " \"category\":['100-A','100-B','110-A','110-C','210-A','130-F'],\n",
    "  \"price\":[1200,np.nan,2133,5433,np.nan,4432]},\n",
    "  columns =['id','date','city','category','age','price'])\n",
    "print(df)\n",
    "\n",
    "print(df['id'])                  ###设置索引列\n",
    "\n",
    "print(df.iloc[2:4,2:4])            ###切片：选取第三行第四行与第三列第四列之间的数据\n",
    "\n",
    "df_2 = df.drop(['id'],axis = 1 )     ###删除：删除id列\n",
    "print(df_2)\n",
    "\n",
    "def format_name(s):    ### map: city属性按首字母大写 后续字母小写的规则\n",
    "    s1 = s[0:1].upper() + s[1:].lower();\n",
    "    return s1\n",
    "df['city']= df['city'].map(format_name)\n",
    "print(df)\n",
    "\n",
    "df1=pd.DataFrame({\"id\":[1001,1002,1003,1004,1005,1006,1007,1008], ###merge 并集\n",
    "\"gender\":['male','female','male','female','male','female','male','female'],\n",
    "\"pay\":['Y','N','Y','Y','N','Y','N','Y',],\n",
    "\"m-point\":[10,12,20,40,40,40,30,20]})\n",
    "df_outer=pd.merge(df,df1,how='outer')\n",
    "print(\"merge:\\n\",df_outer)"
   ]
  },
  {
   "cell_type": "code",
   "execution_count": null,
   "metadata": {},
   "outputs": [],
   "source": [
    "# import datetime\n",
    "now = datetime.datetime.now()\n",
    "now\n",
    "now.day,now.month,now.year"
   ]
  },
  {
   "cell_type": "code",
   "execution_count": null,
   "metadata": {},
   "outputs": [],
   "source": [
    "# contact\n",
    "from numpy.random import rand\n",
    "import numpy as np\n",
    "\n",
    "\n",
    "df_1=pd.DataFrame({'Weather':['cold','hot','cold','hot','cold','hot','cold'],'Food':['soup','soup','icecream','chocolate','icecream','icecream','soup'],\n",
    "                'Price':10*rand(7)})\n",
    "print(df_1)\n",
    "print (\"Contact  together:\\n\",pd.concat([df_1,df_1[:3]]))"
   ]
  },
  {
   "cell_type": "code",
   "execution_count": null,
   "metadata": {},
   "outputs": [],
   "source": []
  },
  {
   "cell_type": "code",
   "execution_count": null,
   "metadata": {},
   "outputs": [],
   "source": []
  }
 ],
 "metadata": {
  "kernelspec": {
   "display_name": "Python 3",
   "language": "python",
   "name": "python3"
  },
  "language_info": {
   "codemirror_mode": {
    "name": "ipython",
    "version": 3
   },
   "file_extension": ".py",
   "mimetype": "text/x-python",
   "name": "python",
   "nbconvert_exporter": "python",
   "pygments_lexer": "ipython3",
   "version": "3.7.0"
  }
 },
 "nbformat": 4,
 "nbformat_minor": 2
}
