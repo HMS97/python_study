{
 "cells": [
  {
   "cell_type": "code",
   "execution_count": 2,
   "metadata": {
    "collapsed": true
   },
   "outputs": [
    {
     "ename": "ModuleNotFoundError",
     "evalue": "No module named 'person'",
     "output_type": "error",
     "traceback": [
      "\u001b[1;31m---------------------------------------------------------------------------\u001b[0m",
      "\u001b[1;31mModuleNotFoundError\u001b[0m                       Traceback (most recent call last)",
      "\u001b[1;32m<ipython-input-2-d55123ace6d2>\u001b[0m in \u001b[0;36m<module>\u001b[1;34m()\u001b[0m\n\u001b[0;32m      1\u001b[0m \u001b[1;32mimport\u001b[0m \u001b[0mrequests\u001b[0m\u001b[1;33m\u001b[0m\u001b[0m\n\u001b[0;32m      2\u001b[0m \u001b[1;32mfrom\u001b[0m \u001b[0mhtml\u001b[0m\u001b[1;33m.\u001b[0m\u001b[0mparser\u001b[0m \u001b[1;32mimport\u001b[0m \u001b[0mHTMLParser\u001b[0m\u001b[1;33m\u001b[0m\u001b[0m\n\u001b[1;32m----> 3\u001b[1;33m \u001b[1;32mimport\u001b[0m \u001b[0mperson\u001b[0m\u001b[1;33m\u001b[0m\u001b[0m\n\u001b[0m\u001b[0;32m      4\u001b[0m \u001b[1;32mfrom\u001b[0m \u001b[0mbs4\u001b[0m \u001b[1;32mimport\u001b[0m \u001b[0mBeautifulSoup\u001b[0m\u001b[1;33m\u001b[0m\u001b[0m\n\u001b[0;32m      5\u001b[0m \u001b[1;32mimport\u001b[0m \u001b[0mjson\u001b[0m\u001b[1;33m\u001b[0m\u001b[0m\n",
      "\u001b[1;31mModuleNotFoundError\u001b[0m: No module named 'person'"
     ]
    }
   ],
   "source": [
    "import requests\n",
    "from html.parser import HTMLParser\n",
    "import person\n",
    "from bs4 import BeautifulSoup\n",
    "import json\n",
    "myHeader = {\"Cookie\":\"SINAGLOBAL=1151648924265.729.1510207774298; YF-V5-G0=a9b587b1791ab233f24db4e09dad383c; login_sid_t=663888f6033b6f4a8f5fa48b26d9eb17; YF-Ugrow-G0=ea90f703b7694b74b62d38420b5273df; _s_tentry=passport.weibo.com; Apache=9283625770163.1.1512087277478; ULV=1512087277483:2:1:1:9283625770163.1.1512087277478:1510207774304; SSOLoginState=1512087292; wvr=6; YF-Page-G0=451b3eb7a5a4008f8b81de1fcc8cf90e; cross_origin_proto=SSL; WBStorage=82ca67f06fa80da0|undefined; crossidccode=CODE-gz-1ElEPq-16RrfZ-qpysbLqGTWJetzH095150; SCF=AnQFFpBKBne2YCQtu52G1zEuEpkY1WI_QdgCdIs-ANt1_wzGQ0_VgvzYW7PLnswMwwJgI9T3YeRDGsWhfOwoLBs.; SUB=_2A253IOm1DeThGeNG6lsU-CjOzTWIHXVUVFx9rDV8PUNbmtBeLWTSkW9NS2IjRFgpnHs1R3f_H3nB67BbC--9b_Hb; SUBP=0033WrSXqPxfM725Ws9jqgMF55529P9D9W5fUsSPaZjP3cB4EXR8M3gT5JpX5KzhUgL.Fo-ReK.f1hqESo.2dJLoIEXLxK.L1hzLBKeLxK-LBo.LBoBLxKML1-zL1-zLxK-LBKBL12qLxK-L1K-L122t; SUHB=0wnlry4ys0tunb; ALF=1543884132; wb_cusLike_5819586269=N; UOR=,,login.sina.com.cn\"}\n",
    "r = requests.get('https://weibo.com/p/1005051678105910/follow?relate=fans&from=100505&wvr=6&mod=headfans&current=fans#place',headers=myHeader)\n",
    "f = open(\"test.html\", \"w\", encoding=\"UTF-8\")\n",
    "parser = HTMLParser()\n",
    "parser.feed(r.text)\n",
    "htmlStr = r.text\n",
    "fansStr = htmlStr.split(\"</script>\")\n",
    "tmpJson = fansStr[-2][17:-1] if fansStr[-2][17:-1].__len__()>fansStr[-3][17:-1].__len__() else fansStr[-3][17:-1]\n",
    "dict = json.loads(tmpJson) \n",
    "soup = BeautifulSoup(dict['html'], 'html')\n",
    "soup.prettify()\n",
    "f.write(soup.prettify()) \n",
    "for divTag in soup.find_all('div'):\n",
    "    if divTag['class'] == [\"follow_inner\"]:\n",
    "        followTag = divTag \n",
    "if locals().get(\"followTag\"):\n",
    "    for personTag in followTag.find_all('dl'):\n",
    "        p = person.person(personTag)\n",
    "        print(p.__dict__)"
   ]
  },
  {
   "cell_type": "code",
   "execution_count": 3,
   "metadata": {
    "collapsed": true
   },
   "outputs": [
    {
     "ename": "SyntaxError",
     "evalue": "invalid syntax (<ipython-input-3-136bbb9002a1>, line 1)",
     "output_type": "error",
     "traceback": [
      "\u001b[1;36m  File \u001b[1;32m\"<ipython-input-3-136bbb9002a1>\"\u001b[1;36m, line \u001b[1;32m1\u001b[0m\n\u001b[1;33m    from bs4 import BeautifulSoup<br><br>\u001b[0m\n\u001b[1;37m                                 ^\u001b[0m\n\u001b[1;31mSyntaxError\u001b[0m\u001b[1;31m:\u001b[0m invalid syntax\n"
     ]
    }
   ],
   "source": [
    "from bs4 import BeautifulSoup<br><br>\n",
    "class person(object):\n",
    "    def __init__(self, personTag = None):\n",
    "        self.analysis(personTag)\n",
    "    def analysis(self,personTag):\n",
    "        self.analysisName(personTag)\n",
    "        self.analysisFollowAndFansNumber(personTag)\n",
    "        self.analysisCity(personTag)\n",
    "        self.analysisIntroduce(personTag)\n",
    "        self.analysisFollowWay(personTag)\n",
    "        self.analysisID(personTag)\n",
    " \n",
    "    def analysisName(self,personTag):\n",
    "        self.name = personTag.div.a.string\n",
    "　　\n",
    "    def analysisFollowAndFansNumber(self,personTag):\n",
    "        for divTag in personTag.find_all('div'):\n",
    "            if divTag['class'] == [\"info_connect\"]:\n",
    "                infoTag = divTag\n",
    "        if locals().get(\"infoTag\"):\n",
    "            self.followNumber = infoTag.find_all('span')[0].em.string\n",
    "            self.fansNumber = infoTag.find_all('span')[1].em.a.string\n",
    "            self.assay = infoTag.find_all('span')[2].em.a.string\n",
    " \n",
    "    def analysisCity(self,personTag):\n",
    "        for divTag in personTag.find_all('div'):\n",
    "            if divTag['class'] == ['info_add']:\n",
    "                addressTag = divTag\n",
    "        if locals().get('addressTag'):\n",
    "            self.address = addressTag.span.string\n",
    " \n",
    "    def analysisIntroduce(self,personTag):\n",
    "        for divTag in personTag.find_all('div'):\n",
    "            if divTag['class'] == ['info_intro']:\n",
    "                introduceTag = divTag\n",
    "        if locals().get('introduceTag'):\n",
    "            self.introduce = introduceTag.span.string\n",
    " \n",
    "    def analysisFollowWay(self,personTag):\n",
    "        for divTag in personTag.find_all('div'):\n",
    "            if divTag['class'] == ['info_from']:\n",
    "                fromTag = divTag\n",
    "        if locals().get('fromTag'):\n",
    "            self.fromInfo = fromTag.a.string\n",
    " \n",
    "    def analysisID(self,personTag):\n",
    "        personRel = personTag.dt.a['href']\n",
    "        self.id = personRel[personRel.find('=')+1:-5]+personRel[3:personRel.find('?')]"
   ]
  },
  {
   "cell_type": "code",
   "execution_count": null,
   "metadata": {},
   "outputs": [],
   "source": []
  }
 ],
 "metadata": {
  "kernelspec": {
   "display_name": "Python 3",
   "language": "python",
   "name": "python3"
  },
  "language_info": {
   "codemirror_mode": {
    "name": "ipython",
    "version": 3
   },
   "file_extension": ".py",
   "mimetype": "text/x-python",
   "name": "python",
   "nbconvert_exporter": "python",
   "pygments_lexer": "ipython3",
   "version": "3.7.0"
  }
 },
 "nbformat": 4,
 "nbformat_minor": 2
}
