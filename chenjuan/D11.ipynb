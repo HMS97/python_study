{
 "cells": [
  {
   "cell_type": "code",
   "execution_count": 2,
   "metadata": {},
   "outputs": [
    {
     "name": "stdout",
     "output_type": "stream",
     "text": [
      "dict_keys(['data', 'target', 'target_names', 'DESCR', 'feature_names'])\n",
      "(150, 4)\n",
      "[5.1 3.5 1.4 0.2]\n",
      "(150,)\n",
      "[0 0 0 0 0 0 0 0 0 0 0 0 0 0 0 0 0 0 0 0 0 0 0 0 0 0 0 0 0 0 0 0 0 0 0 0 0\n",
      " 0 0 0 0 0 0 0 0 0 0 0 0 0 1 1 1 1 1 1 1 1 1 1 1 1 1 1 1 1 1 1 1 1 1 1 1 1\n",
      " 1 1 1 1 1 1 1 1 1 1 1 1 1 1 1 1 1 1 1 1 1 1 1 1 1 1 2 2 2 2 2 2 2 2 2 2 2\n",
      " 2 2 2 2 2 2 2 2 2 2 2 2 2 2 2 2 2 2 2 2 2 2 2 2 2 2 2 2 2 2 2 2 2 2 2 2 2\n",
      " 2 2]\n",
      "['setosa' 'versicolor' 'virginica']\n",
      "feature_names: ['sepal length (cm)', 'sepal width (cm)', 'petal length (cm)', 'petal width (cm)']\n"
     ]
    }
   ],
   "source": [
    "import numpy as np\n",
    "from sklearn import datasets\n",
    "from sklearn.model_selection import train_test_split\n",
    "from sklearn.linear_model import LogisticRegression\n",
    "def load_data():\n",
    "    iris = datasets.load_iris()\n",
    "    print(iris.keys())\n",
    "    n_samples,n_features = iris.data.shape\n",
    "    print((n_samples,n_features))\n",
    "    print(iris.data[0])\n",
    "    print(iris.target.shape)\n",
    "    print(iris.target)\n",
    "    print(iris.target_names)\n",
    "    print(\"feature_names:\", iris.feature_names)\n",
    "def main():\n",
    "   load_data()\n",
    "\n",
    "if __name__ == '__main__':\n",
    "    main()\n",
    "    \n",
    "\n"
   ]
  },
  {
   "cell_type": "code",
   "execution_count": 7,
   "metadata": {},
   "outputs": [
    {
     "ename": "SyntaxError",
     "evalue": "unexpected character after line continuation character (<ipython-input-7-c899125fcf70>, line 8)",
     "output_type": "error",
     "traceback": [
      "\u001b[1;36m  File \u001b[1;32m\"<ipython-input-7-c899125fcf70>\"\u001b[1;36m, line \u001b[1;32m8\u001b[0m\n\u001b[1;33m    x_train, x_test, y_train, y_test = \\\u001b[0m\n\u001b[1;37m                                         ^\u001b[0m\n\u001b[1;31mSyntaxError\u001b[0m\u001b[1;31m:\u001b[0m unexpected character after line continuation character\n"
     ]
    }
   ],
   "source": [
    "# -*- coding:utf-8 -*-\n",
    "import numpy as np \n",
    "from sklearn import datasets \n",
    "from sklearn.model_selection import train_test_split\n",
    "from sklearn.linear_model import LogisticRegression \n",
    "def load_data(): \n",
    "    # 共150条数据，训练120条，测试30条，进行2,8分进行模型训练 \n",
    "    # 每条数据类型为 x{nbarray} [6.4, 3.1, 5.5, 1.8] \n",
    "    inputdata = datasets.load_iris()\n",
    "    # 切分，测试训练2,8分 \n",
    "    x_train, x_test, y_train, y_test = \\ \n",
    "    train_test_split(inputdata.data, inputdata.target, test_size = 0.2, random_state=0)\n",
    "    return x_train, x_test, y_train, y_test \n",
    "def main(): \n",
    "    # 训练集x ,测试集x,训练集label,测试集label \n",
    "    x_train, x_test, y_train, y_test = load_data() \n",
    "    # l2为正则项 \n",
    "    model = LogisticRegression(penalty='l2') \n",
    "    model.fit(x_train, y_train) \n",
    "    print \"w: \", model.coef_ \n",
    "    print \"b: \", model.intercept_ \n",
    "    # 准确率 \n",
    "    print \"precision: \", model.score(x_test, y_test) \n",
    "    print \"MSE: \", np.mean((model.predict(x_test) - y_test) ** 2) \n",
    "if __name__ == '__main__': \n",
    "        main()\n"
   ]
  },
  {
   "cell_type": "code",
   "execution_count": null,
   "metadata": {},
   "outputs": [],
   "source": []
  }
 ],
 "metadata": {
  "kernelspec": {
   "display_name": "Python 3",
   "language": "python",
   "name": "python3"
  },
  "language_info": {
   "codemirror_mode": {
    "name": "ipython",
    "version": 3
   },
   "file_extension": ".py",
   "mimetype": "text/x-python",
   "name": "python",
   "nbconvert_exporter": "python",
   "pygments_lexer": "ipython3",
   "version": "3.7.0"
  }
 },
 "nbformat": 4,
 "nbformat_minor": 2
}
