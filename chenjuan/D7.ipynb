{
 "cells": [
  {
   "cell_type": "code",
   "execution_count": 6,
   "metadata": {},
   "outputs": [
    {
     "name": "stdout",
     "output_type": "stream",
     "text": [
      "<re.Match object; span=(0, 2), match='my'>\n",
      "None\n",
      "None\n"
     ]
    }
   ],
   "source": [
    "#!/usr/bin/python\n",
    "# -*- coding: UTF-8 -*-\n",
    "import re\n",
    "print(re.match(\"my\",\"my.name.is.CJ\"))#在起始位置匹配\n",
    "print(re.match(\"my\",\"your.name.is.not.CJ\"))#在起始位置不匹配\n",
    "print(re.match(\"my.face\",\"my.name.is.CJ\"))"
   ]
  },
  {
   "cell_type": "code",
   "execution_count": 11,
   "metadata": {},
   "outputs": [
    {
     "name": "stdout",
     "output_type": "stream",
     "text": [
      "(0, 2)\n",
      "(3, 8)\n"
     ]
    }
   ],
   "source": [
    "import re\n",
    "print(re.match(\"my\",\"my.name.is.CJ\").span())#在起始位置匹配\n",
    "print(re.search(\"name.\",\"my.name.is.CJ\").span())#不在起始位置匹配"
   ]
  },
  {
   "cell_type": "code",
   "execution_count": 16,
   "metadata": {},
   "outputs": [
    {
     "name": "stdout",
     "output_type": "stream",
     "text": [
      "['my', 'my']\n",
      "['135', '7203', '8221']\n"
     ]
    }
   ],
   "source": [
    "#!/usr/bin/python\n",
    "# -*- coding:UTF8 -*-\n",
    "import re\n",
    "pattern = re.compile(\"my\")#编译正则表达式\n",
    "print(pattern.findall('my hat is not my favorite hat'))\n",
    "pattern1 = re.compile(r'\\d+') \n",
    "print(pattern1.findall('my phone number is 135-7203-8221'))"
   ]
  },
  {
   "cell_type": "code",
   "execution_count": 21,
   "metadata": {},
   "outputs": [
    {
     "name": "stdout",
     "output_type": "stream",
     "text": [
      "<re.Match object; span=(0, 1), match='m'>\n",
      "<re.Match object; span=(19, 20), match='1'>\n",
      "<re.Match object; span=(0, 1), match='m'>\n"
     ]
    }
   ],
   "source": [
    "import re\n",
    "line = \"my phone number is 13572038221\"\n",
    "print(re.search(r'\\D',line,re.M|re.I))#匹配非数字字符\n",
    "print(re.search(r'\\d',line,re.M|re.I))#匹配数字字符\n",
    "print(re.search(r'\\S',line,re.M|re.I))#匹配非空字符"
   ]
  },
  {
   "cell_type": "code",
   "execution_count": null,
   "metadata": {},
   "outputs": [],
   "source": []
  }
 ],
 "metadata": {
  "kernelspec": {
   "display_name": "Python 3",
   "language": "python",
   "name": "python3"
  },
  "language_info": {
   "codemirror_mode": {
    "name": "ipython",
    "version": 3
   },
   "file_extension": ".py",
   "mimetype": "text/x-python",
   "name": "python",
   "nbconvert_exporter": "python",
   "pygments_lexer": "ipython3",
   "version": "3.7.0"
  }
 },
 "nbformat": 4,
 "nbformat_minor": 2
}
