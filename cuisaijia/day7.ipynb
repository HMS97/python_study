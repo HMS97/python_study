{
 "cells": [
  {
   "cell_type": "markdown",
   "metadata": {},
   "source": [
    "正则表达式"
   ]
  },
  {
   "cell_type": "code",
   "execution_count": 3,
   "metadata": {},
   "outputs": [
    {
     "name": "stdout",
     "output_type": "stream",
     "text": [
      "['spython', 'jpython']\n"
     ]
    }
   ],
   "source": [
    "import re\n",
    "string = 'dsfdspythondsfdsjpythonfds'\n",
    "pattern = '.python'\n",
    "s = re.compile(pattern = pattern).findall(string)#匹配所有的，返回的是list\n",
    "print(s)"
   ]
  },
  {
   "cell_type": "code",
   "execution_count": 5,
   "metadata": {},
   "outputs": [
    {
     "name": "stdout",
     "output_type": "stream",
     "text": [
      "刘德华 \n"
     ]
    }
   ],
   "source": [
    "string = '刘德华 Andy Lau'\n",
    "pattern = '.*?\\s'\n",
    "s = re.match(pattern = pattern,string = string)#字符串首字母开始匹配\n",
    "print(s.group())"
   ]
  },
  {
   "cell_type": "code",
   "execution_count": 7,
   "metadata": {},
   "outputs": [
    {
     "name": "stdout",
     "output_type": "stream",
     "text": [
      "刘德华 \n"
     ]
    }
   ],
   "source": [
    "string = '刘德华 Andy Lau'\n",
    "pattern = '.*?\\s'\n",
    "s = re.search(pattern = pattern,string = string)#从整个字符串匹配\n",
    "print(s.group())"
   ]
  },
  {
   "cell_type": "code",
   "execution_count": 8,
   "metadata": {},
   "outputs": [
    {
     "name": "stdout",
     "output_type": "stream",
     "text": [
      "['site', 'sue', 'see', 'see', 'ssee']\n"
     ]
    }
   ],
   "source": [
    "text = 'site sea sue sweet see case see ssee loses'#\"\\b\"表示单词的开头或结尾#\"[]\"表示满足括号中任一字符#\".\"表示除换行符以外的任意字符#\"\\S\"表示不是空白符的任意字符#\"*\"表示前面的字符可以重复任意多次#\"+\"表示前面的字符可以重复1次以上#\"{数字}\"表示前面的字符可以重复的次数#\"0-9\"表示0-9一串连续的数字#\"\\d\"表示[0-9]\n",
    "m = re.findall(r'\\bs\\S*e\\b',text)#查找s开头，e结尾的单词\n",
    "if m:\n",
    "    print(m)\n",
    "else:\n",
    "    print('not match')"
   ]
  },
  {
   "cell_type": "code",
   "execution_count": 9,
   "metadata": {},
   "outputs": [
    {
     "name": "stdout",
     "output_type": "stream",
     "text": [
      "['12314', '5236']\n"
     ]
    }
   ],
   "source": [
    "ss = 'adafasw12314egrdf5236qew'\n",
    "num = re.findall('\\d+',ss)\n",
    "print(num)"
   ]
  },
  {
   "cell_type": "code",
   "execution_count": 21,
   "metadata": {},
   "outputs": [
    {
     "name": "stdout",
     "output_type": "stream",
     "text": [
      "心理箴言\n",
      "现实是污浊的河流\n",
      "要想接受污浊的河流而自身不被污染\n",
      "我们必须成为大海\n"
     ]
    }
   ],
   "source": [
    "word = u'【心理箴言】现实是污浊的河流，要想接受污浊的河流而自身不被污染，我们必须成为大海. =-=4845/.?'\n",
    "p = re.compile(u'[\\u4e00-\\u9fa5]+')\n",
    "res = re.findall(p,word)\n",
    "#result = '.join(res)'\n",
    "#m = p.match(word)\n",
    "for w in res:\n",
    "    print(w)"
   ]
  },
  {
   "cell_type": "code",
   "execution_count": null,
   "metadata": {},
   "outputs": [],
   "source": []
  }
 ],
 "metadata": {
  "kernelspec": {
   "display_name": "Python 3",
   "language": "python",
   "name": "python3"
  },
  "language_info": {
   "codemirror_mode": {
    "name": "ipython",
    "version": 3
   },
   "file_extension": ".py",
   "mimetype": "text/x-python",
   "name": "python",
   "nbconvert_exporter": "python",
   "pygments_lexer": "ipython3",
   "version": "3.7.0"
  }
 },
 "nbformat": 4,
 "nbformat_minor": 2
}
