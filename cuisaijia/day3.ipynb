{
 "cells": [
  {
   "cell_type": "markdown",
   "metadata": {},
   "source": [
    "# numpy"
   ]
  },
  {
   "cell_type": "code",
   "execution_count": 27,
   "metadata": {},
   "outputs": [
    {
     "name": "stdout",
     "output_type": "stream",
     "text": [
      "[[0.22018383 0.93104343 0.07498792 0.05050736 0.91889973]\n",
      " [0.48689807 0.08732359 0.2365455  0.42906093 0.39754308]\n",
      " [0.5476248  0.58899648 0.56220747 0.05751027 0.44611702]\n",
      " [0.98711044 0.65557727 0.80513271 0.63378551 0.94427038]\n",
      " [0.77256238 0.65484543 0.40801577 0.91728761 0.84663198]]\n",
      "25\n",
      "(5, 5)\n",
      "[0.93104343 0.08732359 0.58899648 0.65557727 0.65484543]\n",
      "[0.48689807 0.08732359 0.2365455  0.42906093 0.39754308]\n"
     ]
    }
   ],
   "source": [
    "import numpy as np\n",
    "\n",
    "m = np.random.rand(5, 5)\n",
    "print(m)\n",
    "\n",
    "print(m.size)\n",
    "print(m.shape)\n",
    "\n",
    "print(m[:, 1])\n",
    "print(m[1, :])"
   ]
  },
  {
   "cell_type": "code",
   "execution_count": 28,
   "metadata": {},
   "outputs": [
    {
     "name": "stdout",
     "output_type": "stream",
     "text": [
      "[[0.34210612 0.90210693 0.94641614 0.43925436 0.91387824]\n",
      " [0.07819672 0.23650315 0.59465089 0.18928137 0.68580919]\n",
      " [0.52220373 0.27932121 0.56211748 0.20568619 0.49484806]\n",
      " [0.03922047 0.42685307 0.22289237 0.1050435  0.09954508]\n",
      " [0.76170008 0.95749938 0.97392116 0.19860738 0.23658193]]\n",
      "[[0.56228995 1.83315037 1.02140406 0.48976172 1.83277797]\n",
      " [0.56509479 0.32382674 0.83119639 0.6183423  1.08335227]\n",
      " [1.06982853 0.86831769 1.12432495 0.26319646 0.94096509]\n",
      " [1.02633091 1.08243034 1.02802509 0.73882901 1.04381546]\n",
      " [1.53426247 1.61234481 1.38193694 1.11589499 1.08321391]]\n",
      "[[-1.21922294e-01  2.89364997e-02 -8.71428225e-01 -3.88746997e-01\n",
      "   5.02149135e-03]\n",
      " [ 4.08701358e-01 -1.49179555e-01 -3.58105393e-01  2.39779567e-01\n",
      "  -2.88266105e-01]\n",
      " [ 2.54210679e-02  3.09675268e-01  8.99835767e-05 -1.48175919e-01\n",
      "  -4.87310383e-02]\n",
      " [ 9.47889963e-01  2.28724200e-01  5.82240339e-01  5.28742003e-01\n",
      "   8.44725297e-01]\n",
      " [ 1.08622993e-02 -3.02653950e-01 -5.65905390e-01  7.18680230e-01\n",
      "   6.10050052e-01]]\n",
      "[[0.07532624 0.83990074 0.07096978 0.02218558 0.83976247]\n",
      " [0.03807383 0.0206523  0.14066199 0.08121324 0.2726387 ]\n",
      " [0.28597171 0.16451921 0.31602665 0.01182907 0.22076015]\n",
      " [0.03871494 0.27983517 0.17945794 0.06657505 0.09399747]\n",
      " [0.58846083 0.6270141  0.3973752  0.18218009 0.20029783]]\n",
      "[[ 0.64361265  1.03207657  0.07923356  0.11498431  1.00549471]\n",
      " [ 6.2265796   0.36922804  0.39778886  2.26678907  0.5796701 ]\n",
      " [ 1.04868036  2.10867079  1.00016008  0.279602    0.90152323]\n",
      " [25.16824291  1.53583825  3.61220394  6.0335526   9.48585655]\n",
      " [ 1.0142606   0.68391212  0.41894127  4.61859777  3.57859951]]\n"
     ]
    }
   ],
   "source": [
    "n = np.random.rand(5, 5)\n",
    "print(n)\n",
    "print(m + n)\n",
    "print(m - n)\n",
    "print(m * n)\n",
    "print(m / n)"
   ]
  },
  {
   "cell_type": "code",
   "execution_count": 29,
   "metadata": {},
   "outputs": [
    {
     "name": "stdout",
     "output_type": "stream",
     "text": [
      "[[1. 1. 1. 1. 1.]\n",
      " [1. 0. 0. 0. 1.]\n",
      " [1. 0. 0. 0. 1.]\n",
      " [1. 0. 0. 0. 1.]\n",
      " [1. 1. 1. 1. 1.]]\n"
     ]
    }
   ],
   "source": [
    "a = np.ones((5, 5))\n",
    "a[1:-1, 1:-1] = 0\n",
    "print(a)"
   ]
  },
  {
   "cell_type": "code",
   "execution_count": 30,
   "metadata": {},
   "outputs": [
    {
     "name": "stdout",
     "output_type": "stream",
     "text": [
      "[[ 0.12138472  0.84152664 -0.02570714 -0.05050736  0.82922437]\n",
      " [ 0.39158169 -0.01321039  0.13796004  0.33298932  0.30105991]\n",
      " [ 0.45310137  0.49501328  0.46787446 -0.04341301  0.35026812]\n",
      " [ 0.89832576  0.56246348  0.71397179  0.54038716  0.8549263 ]\n",
      " [ 0.68097616  0.56172208  0.31166935  0.8275912   0.75601296]]\n",
      "[[0.22018383 0.93104343 0.07498792 0.05050736 0.91889973]\n",
      " [0.48689807 0.08732359 0.2365455  0.42906093 0.39754308]\n",
      " [0.5476248  0.58899648 0.56220747 0.05751027 0.44611702]\n",
      " [0.98711044 0.65557727 0.80513271 0.63378551 0.94427038]\n",
      " [0.77256238 0.65484543 0.40801577 0.91728761 0.84663198]]\n"
     ]
    }
   ],
   "source": [
    "p = (m - np.min(m)) / np.max(m) - np.min(m)\n",
    "print(p)\n",
    "\n",
    "print(np.array(m))"
   ]
  },
  {
   "cell_type": "code",
   "execution_count": 31,
   "metadata": {},
   "outputs": [
    {
     "name": "stdout",
     "output_type": "stream",
     "text": [
      "[[0.34210612 0.90210693 0.94641614 0.43925436 0.91387824 0.07819672\n",
      "  0.23650315 0.59465089 0.18928137 0.68580919 0.52220373 0.27932121\n",
      "  0.56211748 0.20568619 0.49484806 0.03922047 0.42685307 0.22289237\n",
      "  0.1050435  0.09954508 0.76170008 0.95749938 0.97392116 0.19860738\n",
      "  0.23658193]]\n"
     ]
    }
   ],
   "source": [
    "s = np.reshape(n,(1,25))\n",
    "print(s)"
   ]
  },
  {
   "cell_type": "markdown",
   "metadata": {},
   "source": [
    "# pandas"
   ]
  },
  {
   "cell_type": "code",
   "execution_count": 32,
   "metadata": {},
   "outputs": [
    {
     "name": "stdout",
     "output_type": "stream",
     "text": [
      "   school   姓名 性别          生日  年龄    裸右   裸左 带镜右眼 带镜左眼  电脑验光右      ...       \\\n",
      "0  junior  张熙涵  男   2000/3/25  18  0.08  1.0  NaN  NaN    NaN      ...        \n",
      "1  junior   郭鑫  男  1999/12/22  18  0.20  0.1  0.5  0.1  -3.25      ...        \n",
      "\n",
      "  Unnamed: 233 Unnamed: 234 Unnamed: 235 Unnamed: 236  Unnamed: 237  \\\n",
      "0          NaN          NaN          NaN          NaN           NaN   \n",
      "1          NaN          NaN          NaN          NaN           NaN   \n",
      "\n",
      "   Unnamed: 238  Unnamed: 239  Unnamed: 240  Unnamed: 241  Unnamed: 242  \n",
      "0           NaN           NaN           NaN           NaN           NaN  \n",
      "1           NaN           NaN           NaN           NaN           NaN  \n",
      "\n",
      "[2 rows x 243 columns]\n",
      "      school   姓名 性别          生日  年龄   裸右    裸左 带镜右眼 带镜左眼 电脑验光右      ...       \\\n",
      "1459  senior  元秦峰  男   1998/9/10  19  0.2  0.25    1    1   NaN      ...        \n",
      "1460  senior   刘华  男  1996/10/23  17  0.6  0.50   缺失   缺失  -1.5      ...        \n",
      "\n",
      "     Unnamed: 233 Unnamed: 234 Unnamed: 235 Unnamed: 236  Unnamed: 237  \\\n",
      "1459          NaN          NaN          NaN          NaN           NaN   \n",
      "1460          NaN          NaN          NaN          NaN           NaN   \n",
      "\n",
      "      Unnamed: 238  Unnamed: 239  Unnamed: 240  Unnamed: 241  Unnamed: 242  \n",
      "1459           NaN           NaN           NaN           NaN           NaN  \n",
      "1460           NaN           NaN           NaN           NaN           NaN  \n",
      "\n",
      "[2 rows x 243 columns]\n",
      "(1461, 243)\n"
     ]
    }
   ],
   "source": [
    "import pandas as pd\n",
    "import numpy as np\n",
    "import datetime\n",
    "\n",
    "\n",
    "CSV_FILE_PATH = 'C:/Users/lenovo/Desktop/csj/hanchen.csv'\n",
    "df = pd.read_csv(CSV_FILE_PATH)\n",
    "print(df.head(2))#前2行\n",
    "print(df.tail(2))#最后两行\n",
    "print(df.shape)\n",
    "\n",
    "\n",
    "#df1 = pd.read_csv('hanchen.csv')[0:10]\n",
    "#print(df1)\n",
    "\n",
    "#d = df[df.'年龄'.isin([17])]#选择\n",
    "#print(d.head(2))\n",
    "#q = df[~df['年龄'].isin([19])]#删除\n",
    "#print(q.head(2))"
   ]
  },
  {
   "cell_type": "code",
   "execution_count": 33,
   "metadata": {},
   "outputs": [
    {
     "name": "stdout",
     "output_type": "stream",
     "text": [
      "    裸左  裸右\n",
      "裸左        \n",
      "1    2   8\n",
      "2    4  10\n"
     ]
    }
   ],
   "source": [
    "df.describe()\n",
    "\n",
    "df = df.set_index('生日')# 将生日设置为index\n",
    "\n",
    "df = pd.DataFrame({'裸左':[1,2,1,2], '裸右':[3,4,5,6]})\n",
    "print(df.groupby('裸左').apply(sum))\n"
   ]
  },
  {
   "cell_type": "code",
   "execution_count": 34,
   "metadata": {},
   "outputs": [
    {
     "data": {
      "text/html": [
       "<div>\n",
       "<style scoped>\n",
       "    .dataframe tbody tr th:only-of-type {\n",
       "        vertical-align: middle;\n",
       "    }\n",
       "\n",
       "    .dataframe tbody tr th {\n",
       "        vertical-align: top;\n",
       "    }\n",
       "\n",
       "    .dataframe thead th {\n",
       "        text-align: right;\n",
       "    }\n",
       "</style>\n",
       "<table border=\"1\" class=\"dataframe\">\n",
       "  <thead>\n",
       "    <tr style=\"text-align: right;\">\n",
       "      <th></th>\n",
       "      <th>裸左</th>\n",
       "      <th>裸右</th>\n",
       "    </tr>\n",
       "  </thead>\n",
       "  <tbody>\n",
       "    <tr>\n",
       "      <th>0</th>\n",
       "      <td>1</td>\n",
       "      <td>3</td>\n",
       "    </tr>\n",
       "    <tr>\n",
       "      <th>1</th>\n",
       "      <td>2</td>\n",
       "      <td>4</td>\n",
       "    </tr>\n",
       "    <tr>\n",
       "      <th>2</th>\n",
       "      <td>1</td>\n",
       "      <td>5</td>\n",
       "    </tr>\n",
       "    <tr>\n",
       "      <th>3</th>\n",
       "      <td>2</td>\n",
       "      <td>6</td>\n",
       "    </tr>\n",
       "  </tbody>\n",
       "</table>\n",
       "</div>"
      ],
      "text/plain": [
       "   裸左  裸右\n",
       "0   1   3\n",
       "1   2   4\n",
       "2   1   5\n",
       "3   2   6"
      ]
     },
     "execution_count": 34,
     "metadata": {},
     "output_type": "execute_result"
    }
   ],
   "source": [
    "pd.DataFrame(df, columns = ['school', '姓名', '生日', '年龄'])\n",
    "pd.DataFrame(df, index = [1, 4])\n",
    "df['裸左'] > 0.4\n",
    "df.iloc[[1,3], 2:4]\n",
    "df[df['裸左'] > 0.5]"
   ]
  },
  {
   "cell_type": "code",
   "execution_count": 35,
   "metadata": {},
   "outputs": [
    {
     "name": "stdout",
     "output_type": "stream",
     "text": [
      "  key  data1\n",
      "0   b      0\n",
      "1   b      1\n",
      "2   a      2\n",
      "3   c      3\n",
      "4   a      4\n",
      "  key  data2\n",
      "0   b      0\n",
      "1   f      1\n",
      "2   d      2\n",
      "3   c      3\n",
      "4   a      4\n",
      "  key  data1  data2\n",
      "0   b      0      0\n",
      "1   b      1      0\n",
      "2   a      2      4\n",
      "3   a      4      4\n",
      "4   c      3      3\n"
     ]
    }
   ],
   "source": [
    "df1 = pd.DataFrame({'key':['b','b','a','c','a'],'data1':range(5)})\n",
    "df2 = pd.DataFrame({'key':['b','f','d','c','a'],'data2':range(5)})\n",
    "df3 = pd.merge(df1,df2,on = 'key')\n",
    "print(df1)\n",
    "print(df2)\n",
    "print(df3)"
   ]
  },
  {
   "cell_type": "code",
   "execution_count": 36,
   "metadata": {},
   "outputs": [
    {
     "name": "stdout",
     "output_type": "stream",
     "text": [
      "   data1  data2 key\n",
      "0    0.0    NaN   b\n",
      "1    1.0    NaN   b\n",
      "2    2.0    NaN   a\n",
      "3    3.0    NaN   c\n",
      "4    4.0    NaN   a\n",
      "0    NaN    0.0   b\n",
      "1    NaN    1.0   f\n",
      "2    NaN    2.0   d\n",
      "3    NaN    3.0   c\n",
      "4    NaN    4.0   a\n"
     ]
    },
    {
     "name": "stderr",
     "output_type": "stream",
     "text": [
      "D:\\python3.7\\Anaconda\\lib\\site-packages\\ipykernel_launcher.py:2: FutureWarning: Sorting because non-concatenation axis is not aligned. A future version\n",
      "of pandas will change to not sort by default.\n",
      "\n",
      "To accept the future behavior, pass 'sort=False'.\n",
      "\n",
      "To retain the current behavior and silence the warning, pass 'sort=True'.\n",
      "\n",
      "  \n"
     ]
    }
   ],
   "source": [
    "f = [df1,df2]\n",
    "df4 = pd.concat(f)\n",
    "print(df4)"
   ]
  },
  {
   "cell_type": "code",
   "execution_count": 43,
   "metadata": {},
   "outputs": [],
   "source": [
    "#dateparse = lambda dates : pd.datetime.strptime(dates,'%d/%m/%Y%H:%M')\n",
    "#rawdata = pd.read_csv('C:/Users/lenovo/Desktop/csj/hanchen.csv',parse_dates={'timeline':['生日']},date_parser=dateparse)\n",
    "\n",
    "df.to_csv('C:/Users/lenovo/Desktop/csj/a.csv')"
   ]
  },
  {
   "cell_type": "code",
   "execution_count": null,
   "metadata": {},
   "outputs": [],
   "source": []
  }
 ],
 "metadata": {
  "kernelspec": {
   "display_name": "Python 3",
   "language": "python",
   "name": "python3"
  },
  "language_info": {
   "codemirror_mode": {
    "name": "ipython",
    "version": 3
   },
   "file_extension": ".py",
   "mimetype": "text/x-python",
   "name": "python",
   "nbconvert_exporter": "python",
   "pygments_lexer": "ipython3",
   "version": "3.7.0"
  }
 },
 "nbformat": 4,
 "nbformat_minor": 2
}
