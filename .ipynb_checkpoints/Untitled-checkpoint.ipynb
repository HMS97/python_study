{
 "cells": [
  {
   "cell_type": "markdown",
   "metadata": {},
   "source": [
    "# 一  学习使用github\n",
    "* 1 [教程](https://blog.csdn.net/qq_35246620/article/details/66973794)\n",
    "* 2 将此仓库拉取到本地\n",
    "* 3 做完作业上传\n",
    "# 二、numpy and pandas tourist \n",
    "### 1、[全面，numpy和pandas教程](https://morvanzhou.github.io/tutorials/data-manipulation/np-pd/2-1-np-attributes)\n",
    "\n",
    "### 2、[numpy教程](https://juejin.im/post/5a76d2c56fb9a063557d8357)\n",
    "### 3、[高阶pandas进阶](https://www.kesci.com/home/project/59e77a636d213335f38daec2)\n",
    "# 三、task\n",
    "### 1、numpy\n",
    "* 1 用numpy 创建一个5 *5 的 随机数矩阵\n",
    "* 2 查看矩阵的size和shape\n",
    "* 3 矩阵索引，获取矩阵的固定一行，固定一列\n",
    "* 4 矩阵运算 两个随机矩阵的加减乘除\n",
    "* 5 创建一个二维数组，其中边界值为1，其余值为0(提示: array[1:-1, 1:-1])\n",
    "* 6 对一个5x5的随机矩阵做归一化处理(提示: (x - min) / (max - min))\n",
    "### 2、pandas\n",
    "* 1 用pandas 读取csv或者excel文件（hancheng.csv）\n",
    "* 2 head，describe，各种函数尝试\n",
    "* 3 尝试清洗此csv（剔除异常值）\n",
    "\n"
   ]
  }
 ],
 "metadata": {
  "kernelspec": {
   "display_name": "Python 3",
   "language": "python",
   "name": "python3"
  },
  "language_info": {
   "codemirror_mode": {
    "name": "ipython",
    "version": 3
   },
   "file_extension": ".py",
   "mimetype": "text/x-python",
   "name": "python",
   "nbconvert_exporter": "python",
   "pygments_lexer": "ipython3",
   "version": "3.6.5"
  }
 },
 "nbformat": 4,
 "nbformat_minor": 2
}
