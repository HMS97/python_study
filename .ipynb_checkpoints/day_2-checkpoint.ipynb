{
 "cells": [
  {
   "cell_type": "code",
   "execution_count": 1,
   "metadata": {},
   "outputs": [
    {
     "name": "stdout",
     "output_type": "stream",
     "text": [
      "55\n",
      "[10, 9, 8, 7, 6, 5, 4, 3, 2, 1]\n"
     ]
    }
   ],
   "source": [
    "number_c = [10,9,8,7,6,5,4,3,2,1]\n",
    "dict = {1:'hello',2:'python',3:'nihao'}\n",
    "tup1 = (1, 2, 3, 4, 5 )\n",
    "tup2 = ('physics', 'chemistry', 1997, 2000)"
   ]
  },
  {
   "cell_type": "code",
   "execution_count": null,
   "metadata": {},
   "outputs": [],
   "source": [
    "number_c = [10,9,8,7,6,5,4,3,2,1]\n",
    "dict = {1:'hello',2:'python',3:'nihao'}\n",
    "def add():\n",
    "\tt = input('1:number_c,2:dict')\n",
    "\tif t == '1':\n",
    "\t\tprint(number_c)\n",
    "\t\tprint(sum(number_c))\t\n",
    "\telse:\n",
    "\t\tprint(dict)\n",
    "\t\tbit_list = sorted(dict.keys())\n",
    "\t\tprint(sum(bit_list))\n",
    "add()\n"
   ]
  },
  {
   "cell_type": "code",
   "execution_count": 3,
   "metadata": {},
   "outputs": [
    {
     "name": "stdout",
     "output_type": "stream",
     "text": [
      "5050\n",
      "5000\n"
     ]
    }
   ],
   "source": [
    "def add_1():\n",
    "    i = 1 \n",
    "    add_1 = 0\n",
    "    while i < 101:\n",
    "        add_1 = add_1 + i\n",
    "        i = i+1\n",
    "    return add_1\n",
    "print(add_1())\n",
    "\n",
    "def add_2():\n",
    "    add_2 = 0\n",
    "    i=1\n",
    "    while i<101:\n",
    "        add_2 = add_2 + i\n",
    "        i = i+1\n",
    "        if i == 50:\n",
    "            add_2 = add_2 + 0           \n",
    "            i = i+1\t\n",
    "            continue\n",
    "    return add_2\n",
    "print (add_2())"
   ]
  },
  {
   "cell_type": "code",
   "execution_count": 4,
   "metadata": {},
   "outputs": [
    {
     "name": "stdout",
     "output_type": "stream",
     "text": [
      "[0, 2, 4, 6, 8, 10, 12, 14, 16, 18, 20, 22, 24, 26, 28, 30, 32, 34, 36, 38, 40, 42, 44, 46, 48, 50, 52, 54, 56, 58, 60, 62, 64, 66, 68, 70, 72, 74, 76, 78, 80, 82, 84, 86, 88, 90, 92, 94, 96, 98, 100, 102, 104, 106, 108, 110, 112, 114, 116, 118, 120, 122, 124, 126, 128, 130, 132, 134, 136, 138, 140, 142, 144, 146, 148, 150, 152, 154, 156, 158, 160, 162, 164, 166, 168, 170, 172, 174, 176, 178, 180, 182, 184, 186, 188, 190, 192, 194, 196, 198, 200]\n",
      "[3, 9, 15, 21, 27, 33, 39, 45, 51, 57, 63, 69, 75, 81, 87, 93, 99, 105, 111, 117, 123, 129, 135, 141, 147, 153, 159, 165, 171, 177, 183, 189, 195]\n"
     ]
    }
   ],
   "source": [
    "list_1 = []\n",
    "list_2 = []\n",
    "for a in range(201):\n",
    "    if a%2 == 0:\n",
    "        list_1.append(a)\n",
    "    elif a % 3 == 0:\n",
    "        list_2.append(a)\n",
    "print(list_1)\n",
    "print(list_2)"
   ]
  },
  {
   "cell_type": "code",
   "execution_count": 5,
   "metadata": {},
   "outputs": [
    {
     "name": "stdout",
     "output_type": "stream",
     "text": [
      "{'s', 'g', 'i'}\n",
      "{'g', 'i', 's', 'n', 'h'}\n",
      "{'n'}\n"
     ]
    }
   ],
   "source": [
    "a = set('sign')\n",
    "b = set('sigh')\n",
    "\n",
    "print(a & b)\n",
    "print(a | b)\n",
    "print(a - b)"
   ]
  },
  {
   "cell_type": "code",
   "execution_count": null,
   "metadata": {},
   "outputs": [],
   "source": []
  }
 ],
 "metadata": {
  "kernelspec": {
   "display_name": "Python 3",
   "language": "python",
   "name": "python3"
  },
  "language_info": {
   "codemirror_mode": {
    "name": "ipython",
    "version": 3
   },
   "file_extension": ".py",
   "mimetype": "text/x-python",
   "name": "python",
   "nbconvert_exporter": "python",
   "pygments_lexer": "ipython3",
   "version": "3.6.5"
  }
 },
 "nbformat": 4,
 "nbformat_minor": 2
}
