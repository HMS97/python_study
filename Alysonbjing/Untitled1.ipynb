{
 "cells": [
  {
   "cell_type": "markdown",
   "metadata": {},
   "source": [
    "# numpy"
   ]
  },
  {
   "cell_type": "code",
   "execution_count": 1,
   "metadata": {},
   "outputs": [
    {
     "name": "stdout",
     "output_type": "stream",
     "text": [
      "矩阵a:\n",
      "[[ 0  1  2  3  4]\n",
      " [ 5  6  7  8  9]\n",
      " [10 11 12 13 14]\n",
      " [15 16 17 18 19]\n",
      " [20 21 22 23 24]]\n",
      "size:  25\n",
      "shape:  (5, 5)\n",
      "矩阵a第三列： [ 2  7 12 17 22]\n",
      "矩阵a第二行： [5 6 7 8 9]\n",
      "***********************************\n",
      "矩阵b:\n",
      "[1 2 3 4 5]\n",
      "***********************************\n",
      "a+b:\n",
      "[[ 1  3  5  7  9]\n",
      " [ 6  8 10 12 14]\n",
      " [11 13 15 17 19]\n",
      " [16 18 20 22 24]\n",
      " [21 23 25 27 29]]\n",
      "***********************************\n",
      "a-b:\n",
      "[[-1 -1 -1 -1 -1]\n",
      " [ 4  4  4  4  4]\n",
      " [ 9  9  9  9  9]\n",
      " [14 14 14 14 14]\n",
      " [19 19 19 19 19]]\n",
      "***********************************\n",
      "a*b:\n",
      "[[  0   2   6  12  20]\n",
      " [  5  12  21  32  45]\n",
      " [ 10  22  36  52  70]\n",
      " [ 15  32  51  72  95]\n",
      " [ 20  42  66  92 120]]\n",
      "***********************************\n",
      "a/b:\n",
      "[[ 0.          0.5         0.66666667  0.75        0.8       ]\n",
      " [ 5.          3.          2.33333333  2.          1.8       ]\n",
      " [10.          5.5         4.          3.25        2.8       ]\n",
      " [15.          8.          5.66666667  4.5         3.8       ]\n",
      " [20.         10.5         7.33333333  5.75        4.8       ]]\n",
      "***********************************\n",
      "矩阵c:\n",
      "[[1. 1. 1. 1. 1.]\n",
      " [1. 0. 0. 0. 1.]\n",
      " [1. 0. 0. 0. 1.]\n",
      " [1. 0. 0. 0. 1.]\n",
      " [1. 1. 1. 1. 1.]]\n"
     ]
    }
   ],
   "source": [
    "import numpy as np\n",
    "\n",
    "#构造矩阵a\n",
    "a = np.arange(25).reshape(5,5)\n",
    "print('矩阵a:\\n{}'.format(a))\n",
    "print('size: ',a.size)\n",
    "print('shape: ',a.shape)\n",
    "print('矩阵a第三列：',a[0:5,2])\n",
    "print('矩阵a第二行：',a[1,:])\n",
    "print('***********************************')\n",
    "\n",
    "#构造矩阵b\n",
    "b = np.array((1,2,3,4,5))\n",
    "print('矩阵b:\\n{}'.format(b))\n",
    "print('***********************************')\n",
    "\n",
    "#矩阵a和b的四则运算\n",
    "print('a+b:\\n{}'.format(a + b))\n",
    "print('***********************************')\n",
    "print('a-b:\\n{}'.format(a - b))\n",
    "print('***********************************')\n",
    "print('a*b:\\n{}'.format(a * b))\n",
    "print('***********************************')\n",
    "print('a/b:\\n{}'.format(a / b))\n",
    "print('***********************************')\n",
    "\n",
    "#创建二维数组，边界为1，中间为0\n",
    "c = np.ones((5,5))\n",
    "c[1:-1,1:-1] = 0\n",
    "print('矩阵c:\\n{}'.format(c))"
   ]
  },
  {
   "cell_type": "markdown",
   "metadata": {},
   "source": [
    "# numpy 构造随机矩阵 进行归一化处理"
   ]
  },
  {
   "cell_type": "code",
   "execution_count": 4,
   "metadata": {},
   "outputs": [
    {
     "name": "stdout",
     "output_type": "stream",
     "text": [
      "原始矩阵d:\n",
      "[[0.96435315 0.65146305 0.38291574 0.28890781 0.54989035]\n",
      " [0.33377524 0.87886745 0.79575847 0.94822392 0.48648104]\n",
      " [0.45749504 0.46682743 0.45137282 0.78163275 0.86057496]\n",
      " [0.8343858  0.45723036 0.46739443 0.69293637 0.77130386]\n",
      " [0.83689795 0.26272211 0.09931389 0.40811098 0.44542127]]\n",
      "*****************************************************************\n",
      "归一化矩阵d_arr:\n",
      "[[1.         0.63829376 0.32784853 0.21917377 0.520874  ]\n",
      " [0.27104128 0.90117709 0.80510171 0.98135434 0.44757177]\n",
      " [0.41406346 0.42485186 0.40698607 0.78877213 0.88003067]\n",
      " [0.84975554 0.41375749 0.42550733 0.68623762 0.77683176]\n",
      " [0.85265964 0.18890267 0.         0.35697465 0.40010598]]\n"
     ]
    }
   ],
   "source": [
    "import numpy as np\n",
    "d = np.random.random((5,5))\n",
    "print('原始矩阵d:\\n{}'.format(d))\n",
    "print('*****************************************************************')\n",
    "d_max = d.max()\n",
    "d_min = d.min()\n",
    "d_arr = (d - d_min) / (d_max - d_min)\n",
    "print('归一化矩阵d_arr:\\n{}'.format(d_arr))"
   ]
  },
  {
   "cell_type": "markdown",
   "metadata": {},
   "source": [
    "# list to array"
   ]
  },
  {
   "cell_type": "code",
   "execution_count": 6,
   "metadata": {},
   "outputs": [
    {
     "name": "stdout",
     "output_type": "stream",
     "text": [
      "数组e_array:\n",
      "[[ 0  1  2  3  4]\n",
      " [ 5  6  7  8  9]\n",
      " [10 11 12 13 14]]\n",
      "***********************************\n",
      "列表e_list:\n",
      "[[0, 1, 2, 3, 4], [5, 6, 7, 8, 9], [10, 11, 12, 13, 14]]\n"
     ]
    }
   ],
   "source": [
    "import numpy as np\n",
    "#构造数组\n",
    "e_array = np.arange(15).reshape(3,5)\n",
    "print('数组e_array:\\n{}'.format(e_array))\n",
    "print('***********************************')\n",
    "e_list = e_array.tolist()\n",
    "print('列表e_list:\\n{}'.format(e_list))"
   ]
  },
  {
   "cell_type": "code",
   "execution_count": 7,
   "metadata": {},
   "outputs": [
    {
     "name": "stdout",
     "output_type": "stream",
     "text": [
      "[1 2 3 4 5]\n",
      "[1, 2, 3, 4, 5]\n"
     ]
    }
   ],
   "source": [
    "import numpy as np\n",
    "\n",
    "e_array = np.array((1,2,3,4,5))\n",
    "print(e_array)\n",
    "\n",
    "e_list = e_array.tolist()\n",
    "print(e_list)"
   ]
  },
  {
   "cell_type": "code",
   "execution_count": null,
   "metadata": {},
   "outputs": [],
   "source": []
  }
 ],
 "metadata": {
  "kernelspec": {
   "display_name": "Python 3",
   "language": "python",
   "name": "python3"
  },
  "language_info": {
   "codemirror_mode": {
    "name": "ipython",
    "version": 3
   },
   "file_extension": ".py",
   "mimetype": "text/x-python",
   "name": "python",
   "nbconvert_exporter": "python",
   "pygments_lexer": "ipython3",
   "version": "3.7.0"
  }
 },
 "nbformat": 4,
 "nbformat_minor": 2
}
