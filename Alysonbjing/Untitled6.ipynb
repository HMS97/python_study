{
 "cells": [
  {
   "cell_type": "markdown",
   "metadata": {},
   "source": [
    "# 正则表达式：match，search函数"
   ]
  },
  {
   "cell_type": "code",
   "execution_count": 10,
   "metadata": {},
   "outputs": [
    {
     "name": "stdout",
     "output_type": "stream",
     "text": [
      "None\n",
      "No match!\n",
      "(20, 24)\n",
      "search--->match_object1.group():  Xian\n"
     ]
    }
   ],
   "source": [
    "import re\n",
    " \n",
    "word = \"My favorite city is Xian!\"\n",
    "match_object = re.match( r'favorite',word,re.M|re.I)\n",
    "print(match_object)\n",
    "\n",
    "if match_object:\n",
    "    print(\"match--->match_object.group(): \",match_object.group())\n",
    "else:\n",
    "    print(\"No match!\")\n",
    "    \n",
    "match_object1 = re.search( r'Xian',word,re.M|re.I)\n",
    "print(match_object1.span())\n",
    "if match_object1:\n",
    "    print(\"search--->match_object1.group(): \",match_object1.group())\n",
    "else:\n",
    "    print(\"No match!\")"
   ]
  },
  {
   "cell_type": "markdown",
   "metadata": {},
   "source": [
    "# findall函数"
   ]
  },
  {
   "cell_type": "code",
   "execution_count": 12,
   "metadata": {},
   "outputs": [
    {
     "name": "stdout",
     "output_type": "stream",
     "text": [
      "['123', '456']\n",
      "['123', '45']\n"
     ]
    }
   ],
   "source": [
    "import re\n",
    " \n",
    "pattern = re.compile(r'\\d+')   # 查找数字\n",
    "result1 = pattern.findall('ahkjda 123 google 456')\n",
    "result2 = pattern.findall('aadjk88wydjsh123google456',7,24)\n",
    " \n",
    "print(result1)\n",
    "print(result2)"
   ]
  },
  {
   "cell_type": "markdown",
   "metadata": {},
   "source": [
    "# 分组匹配，匹配数字"
   ]
  },
  {
   "cell_type": "code",
   "execution_count": 15,
   "metadata": {},
   "outputs": [
    {
     "data": {
      "text/plain": [
       "{'province': '340', 'city': '123', 'born_year': '1990', 'month_day': '0213'}"
      ]
     },
     "execution_count": 15,
     "metadata": {},
     "output_type": "execute_result"
    }
   ],
   "source": [
    "import re\n",
    "\n",
    "#“（？P...）”分组匹配\n",
    "s = '340123199002132948'\n",
    "res = re.search('(?P<province>\\d{3})(?P<city>\\d{3})(?P<born_year>\\d{4})(?P<month_day>\\d{4})',s)\n",
    "res.groupdict()"
   ]
  },
  {
   "cell_type": "markdown",
   "metadata": {},
   "source": [
    "# 匹配特定的单词，句子"
   ]
  },
  {
   "cell_type": "code",
   "execution_count": 26,
   "metadata": {},
   "outputs": [
    {
     "name": "stdout",
     "output_type": "stream",
     "text": [
      "Hello World\n",
      "Hello\n",
      "World\n"
     ]
    }
   ],
   "source": [
    "import re\n",
    "pattern = re.compile(r'([a-z]+) ([a-z]+)',re.I)   # re.I 表示忽略大小写\n",
    "m = pattern.match('Hello World Wide Web')\n",
    "print(m.group(0)) # 匹配成功，返回一个 Match 对象\n",
    "print(m.group(1))\n",
    "print(m.group(2))"
   ]
  },
  {
   "cell_type": "code",
   "execution_count": null,
   "metadata": {},
   "outputs": [],
   "source": []
  },
  {
   "cell_type": "code",
   "execution_count": null,
   "metadata": {},
   "outputs": [],
   "source": []
  }
 ],
 "metadata": {
  "kernelspec": {
   "display_name": "Python 3",
   "language": "python",
   "name": "python3"
  },
  "language_info": {
   "codemirror_mode": {
    "name": "ipython",
    "version": 3
   },
   "file_extension": ".py",
   "mimetype": "text/x-python",
   "name": "python",
   "nbconvert_exporter": "python",
   "pygments_lexer": "ipython3",
   "version": "3.7.0"
  }
 },
 "nbformat": 4,
 "nbformat_minor": 2
}
