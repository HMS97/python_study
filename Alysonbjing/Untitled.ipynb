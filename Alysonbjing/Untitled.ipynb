{
 "cells": [
  {
   "cell_type": "markdown",
   "metadata": {},
   "source": [
    "# 创建列表，字典，元组"
   ]
  },
  {
   "cell_type": "code",
   "execution_count": 8,
   "metadata": {},
   "outputs": [],
   "source": [
    "list1 = [1,2,3,4,5,6]\n",
    "dict = {'Alice': 1,'Beth': 2,'Cecil': 3}\n",
    "tup1 = ['math','chemistry',1998,10]"
   ]
  },
  {
   "cell_type": "markdown",
   "metadata": {},
   "source": [
    "# 定义一个求和函数，模式一求和列表中所有元素，模式二求和字典"
   ]
  },
  {
   "cell_type": "code",
   "execution_count": 21,
   "metadata": {},
   "outputs": [
    {
     "name": "stdout",
     "output_type": "stream",
     "text": [
      "1:number_c,2:dict12\n",
      "{1: 'hello', 2: 'python'}\n",
      "3\n"
     ]
    }
   ],
   "source": [
    "number_c = [10,9,8,7,6,5,4,3,2,1]\n",
    "dict1 = {1:'hello',2:'python'}\n",
    "\n",
    "def add():\n",
    "\tt = input('1:number_c,2:dict1')\n",
    "\tif t == '1':\n",
    "\t\tprint(number_c)\n",
    "\t\tprint(sum(number_c))\t\n",
    "\telif t == '2':\n",
    "\t\tprint(dict1)\n",
    "\t\tbit_list = sorted(dict1.keys())\n",
    "\t\tprint(sum(bit_list))\n",
    "        \n",
    "add()"
   ]
  },
  {
   "cell_type": "markdown",
   "metadata": {},
   "source": [
    "# break 求1到100整数和"
   ]
  },
  {
   "cell_type": "code",
   "execution_count": 12,
   "metadata": {},
   "outputs": [
    {
     "name": "stdout",
     "output_type": "stream",
     "text": [
      "1到100整数和： 5050\n"
     ]
    }
   ],
   "source": [
    "def number_sum(n):\n",
    "\ti = 1\n",
    "\ts = 0\n",
    "\twhile i <= n:\n",
    "\t\ts = s + i\n",
    "\t\ti = i + 1\n",
    "\t\tif i > 100:\n",
    "\t\t\tbreak\t\n",
    "\tprint(\"1到100整数和：\",s)\n",
    "\t\n",
    "number_sum(100)"
   ]
  },
  {
   "cell_type": "markdown",
   "metadata": {},
   "source": [
    "# continue 求1到100整数和，除去50"
   ]
  },
  {
   "cell_type": "code",
   "execution_count": 13,
   "metadata": {},
   "outputs": [
    {
     "name": "stdout",
     "output_type": "stream",
     "text": [
      "1到100整数和，除去50： 5000\n"
     ]
    }
   ],
   "source": [
    "def number_50_sum(m):\n",
    "\ti = 1\n",
    "\ts = 0\n",
    "\twhile i <= m:\n",
    "\t\ts = s + i\n",
    "\t\ti = i + 1\n",
    "\t\tif i == 50:\n",
    "\t\t\ti = i + 1\n",
    "\t\t\tcontinue\n",
    "\tprint(\"1到100整数和，除去50：\",s)\n",
    "\t\n",
    "number_50_sum(100)"
   ]
  },
  {
   "cell_type": "markdown",
   "metadata": {},
   "source": [
    "# 列表推导式，求0到200之间所有偶数列表，所有能被3整除的列表"
   ]
  },
  {
   "cell_type": "code",
   "execution_count": 18,
   "metadata": {},
   "outputs": [
    {
     "name": "stdout",
     "output_type": "stream",
     "text": [
      "0-200之间所有偶数列表： [0, 2, 4, 6, 8, 10, 12, 14, 16, 18, 20, 22, 24, 26, 28, 30, 32, 34, 36, 38, 40, 42, 44, 46, 48, 50, 52, 54, 56, 58, 60, 62, 64, 66, 68, 70, 72, 74, 76, 78, 80, 82, 84, 86, 88, 90, 92, 94, 96, 98, 100, 102, 104, 106, 108, 110, 112, 114, 116, 118, 120, 122, 124, 126, 128, 130, 132, 134, 136, 138, 140, 142, 144, 146, 148, 150, 152, 154, 156, 158, 160, 162, 164, 166, 168, 170, 172, 174, 176, 178, 180, 182, 184, 186, 188, 190, 192, 194, 196, 198, 200]\n",
      "0-200之间所有能被3整除的列表： [3, 9, 15, 21, 27, 33, 39, 45, 51, 57, 63, 69, 75, 81, 87, 93, 99, 105, 111, 117, 123, 129, 135, 141, 147, 153, 159, 165, 171, 177, 183, 189, 195]\n"
     ]
    }
   ],
   "source": [
    "list1 = []\n",
    "list2 = []\n",
    "for a in range(201):\n",
    "\tif a % 2 == 0:\n",
    "\t\tlist1.append(a)\n",
    "\telif a % 3 == 0:\n",
    "\t\tlist2.append(a)\n",
    "print('0-200之间所有偶数列表：',list1)\n",
    "print('0-200之间所有能被3整除的列表：',list2)"
   ]
  },
  {
   "cell_type": "code",
   "execution_count": 15,
   "metadata": {},
   "outputs": [
    {
     "ename": "SyntaxError",
     "evalue": "invalid syntax (<ipython-input-15-86f453840288>, line 1)",
     "output_type": "error",
     "traceback": [
      "\u001b[1;36m  File \u001b[1;32m\"<ipython-input-15-86f453840288>\"\u001b[1;36m, line \u001b[1;32m1\u001b[0m\n\u001b[1;33m    print[a for a in range(0,200) if a % 2 == 0]\u001b[0m\n\u001b[1;37m              ^\u001b[0m\n\u001b[1;31mSyntaxError\u001b[0m\u001b[1;31m:\u001b[0m invalid syntax\n"
     ]
    }
   ],
   "source": [
    "for a in range(200)"
   ]
  },
  {
   "cell_type": "markdown",
   "metadata": {},
   "source": [
    "# 集合运算：交集，并集，差"
   ]
  },
  {
   "cell_type": "code",
   "execution_count": 14,
   "metadata": {},
   "outputs": [
    {
     "name": "stdout",
     "output_type": "stream",
     "text": [
      "{'p', 'r', 'u', 'k', 'e'}\n",
      "{'p', 'r', 'u', 'b', 'k', 'n', 'e', 'a'}\n",
      "{'n'}\n"
     ]
    }
   ],
   "source": [
    "x = set('keeprun')\n",
    "y = set('breakup')\n",
    "\n",
    "a = x & y\n",
    "print(a)\n",
    "b = x | y\n",
    "print(b)\n",
    "c = x - y\n",
    "print(c)"
   ]
  }
 ],
 "metadata": {
  "kernelspec": {
   "display_name": "Python 3",
   "language": "python",
   "name": "python3"
  },
  "language_info": {
   "codemirror_mode": {
    "name": "ipython",
    "version": 3
   },
   "file_extension": ".py",
   "mimetype": "text/x-python",
   "name": "python",
   "nbconvert_exporter": "python",
   "pygments_lexer": "ipython3",
   "version": "3.7.0"
  }
 },
 "nbformat": 4,
 "nbformat_minor": 2
}
