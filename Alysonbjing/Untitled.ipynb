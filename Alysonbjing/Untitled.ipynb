{
 "cells": [
  {
   "cell_type": "markdown",
   "metadata": {},
   "source": [
    "# 创建列表，字典，元组"
   ]
  },
  {
   "cell_type": "code",
   "execution_count": 8,
   "metadata": {},
   "outputs": [],
   "source": [
    "list1 = [1,2,3,4,5,6]\n",
    "dict = {'Alice': 1,'Beth': 2,'Cecil': 3}\n",
    "tup1 = ['math','chemistry',1998,10]"
   ]
  },
  {
   "cell_type": "markdown",
   "metadata": {},
   "source": [
    "# 定义一个求和函数，模式一求和列表中所有元素，模式二求和字典"
   ]
  },
  {
   "cell_type": "code",
   "execution_count": 21,
   "metadata": {},
   "outputs": [
    {
     "name": "stdout",
     "output_type": "stream",
     "text": [
      "1:number_c,2:dict12\n",
      "{1: 'hello', 2: 'python'}\n",
      "3\n"
     ]
    }
   ],
   "source": [
    "number_c = [10,9,8,7,6,5,4,3,2,1]\n",
    "dict1 = {1:'hello',2:'python'}\n",
    "\n",
    "def add():\n",
    "\tt = input('1:number_c,2:dict1')\n",
    "\tif t == '1':\n",
    "\t\tprint(number_c)\n",
    "\t\tprint(sum(number_c))\t\n",
    "\telif t == '2':\n",
    "\t\tprint(dict1)\n",
    "\t\tbit_list = sorted(dict1.keys())\n",
    "\t\tprint(sum(bit_list))\n",
    "        \n",
    "add()"
   ]
  },
  {
   "cell_type": "markdown",
   "metadata": {},
   "source": [
    "# break 求1到100整数和"
   ]
  },
  {
   "cell_type": "code",
   "execution_count": 12,
   "metadata": {},
   "outputs": [
    {
     "name": "stdout",
     "output_type": "stream",
     "text": [
      "1到100整数和： 5050\n"
     ]
    }
   ],
   "source": [
    "def number_sum(n):\n",
    "\ti = 1\n",
    "\ts = 0\n",
    "\twhile i <= n:\n",
    "\t\ts = s + i\n",
    "\t\ti = i + 1\n",
    "\t\tif i > 100:\n",
    "\t\t\tbreak\t\n",
    "\tprint(\"1到100整数和：\",s)\n",
    "\t\n",
    "number_sum(100)"
   ]
  },
  {
   "cell_type": "markdown",
   "metadata": {},
   "source": [
    "# continue 求1到100整数和，除去50"
   ]
  },
  {
   "cell_type": "code",
   "execution_count": 13,
   "metadata": {},
   "outputs": [
    {
     "name": "stdout",
     "output_type": "stream",
     "text": [
      "1到100整数和，除去50： 5000\n"
     ]
    }
   ],
   "source": [
    "def number_50_sum(m):\n",
    "\ti = 1\n",
    "\ts = 0\n",
    "\twhile i <= m:\n",
    "\t\ts = s + i\n",
    "\t\ti = i + 1\n",
    "\t\tif i == 50:\n",
    "\t\t\ti = i + 1\n",
    "\t\t\tcontinue\n",
    "\tprint(\"1到100整数和，除去50：\",s)\n",
    "\t\n",
    "number_50_sum(100)"
   ]
  },
  {
   "cell_type": "markdown",
   "metadata": {},
   "source": [
    "# 列表推导式，求0到200之间所有偶数列表，所有能被3整除的列表"
   ]
  },
  {
   "cell_type": "code",
   "execution_count": 3,
   "metadata": {},
   "outputs": [
    {
     "name": "stdout",
     "output_type": "stream",
     "text": [
      "0-200之间所有偶数列表： [0, 2, 4, 6, 8, 10, 12, 14, 16, 18, 20, 22, 24, 26, 28, 30, 32, 34, 36, 38, 40, 42, 44, 46, 48, 50, 52, 54, 56, 58, 60, 62, 64, 66, 68, 70, 72, 74, 76, 78, 80, 82, 84, 86, 88, 90, 92, 94, 96, 98, 100, 102, 104, 106, 108, 110, 112, 114, 116, 118, 120, 122, 124, 126, 128, 130, 132, 134, 136, 138, 140, 142, 144, 146, 148, 150, 152, 154, 156, 158, 160, 162, 164, 166, 168, 170, 172, 174, 176, 178, 180, 182, 184, 186, 188, 190, 192, 194, 196, 198, 200]\n",
      "0-200之间所有能被3整除的列表： [0, 3, 6, 9, 12, 15, 18, 21, 24, 27, 30, 33, 36, 39, 42, 45, 48, 51, 54, 57, 60, 63, 66, 69, 72, 75, 78, 81, 84, 87, 90, 93, 96, 99, 102, 105, 108, 111, 114, 117, 120, 123, 126, 129, 132, 135, 138, 141, 144, 147, 150, 153, 156, 159, 162, 165, 168, 171, 174, 177, 180, 183, 186, 189, 192, 195, 198]\n"
     ]
    }
   ],
   "source": [
    "list1 = [x for x in range(201) if x % 2 ==0]\n",
    "list2 = [x for x in range(201) if x % 3 ==0]\n",
    "print('0-200之间所有偶数列表：',list1)\n",
    "print('0-200之间所有能被3整除的列表：',list2)"
   ]
  },
  {
   "cell_type": "markdown",
   "metadata": {},
   "source": [
    "# 集合运算：交集，并集，差"
   ]
  },
  {
   "cell_type": "code",
   "execution_count": 4,
   "metadata": {},
   "outputs": [
    {
     "name": "stdout",
     "output_type": "stream",
     "text": [
      "{0, 132, 6, 138, 12, 144, 18, 150, 24, 156, 30, 162, 36, 168, 42, 174, 48, 180, 54, 186, 60, 192, 66, 198, 72, 78, 84, 90, 96, 102, 108, 114, 120, 126}\n",
      "{0, 2, 3, 4, 6, 8, 9, 10, 12, 14, 15, 16, 18, 20, 21, 22, 24, 26, 27, 28, 30, 32, 33, 34, 36, 38, 39, 40, 42, 44, 45, 46, 48, 50, 51, 52, 54, 56, 57, 58, 60, 62, 63, 64, 66, 68, 69, 70, 72, 74, 75, 76, 78, 80, 81, 82, 84, 86, 87, 88, 90, 92, 93, 94, 96, 98, 99, 100, 102, 104, 105, 106, 108, 110, 111, 112, 114, 116, 117, 118, 120, 122, 123, 124, 126, 128, 129, 130, 132, 134, 135, 136, 138, 140, 141, 142, 144, 146, 147, 148, 150, 152, 153, 154, 156, 158, 159, 160, 162, 164, 165, 166, 168, 170, 171, 172, 174, 176, 177, 178, 180, 182, 183, 184, 186, 188, 189, 190, 192, 194, 195, 196, 198, 200}\n",
      "{128, 2, 130, 4, 134, 8, 136, 10, 140, 14, 142, 16, 146, 20, 148, 22, 152, 26, 154, 28, 158, 32, 160, 34, 164, 38, 166, 40, 170, 44, 172, 46, 176, 50, 178, 52, 182, 56, 184, 58, 188, 62, 190, 64, 194, 68, 196, 70, 200, 74, 76, 80, 82, 86, 88, 92, 94, 98, 100, 104, 106, 110, 112, 116, 118, 122, 124}\n"
     ]
    }
   ],
   "source": [
    "x = set(list1)\n",
    "y = set(list2)\n",
    "\n",
    "a = x & y\n",
    "print(a)\n",
    "b = x | y\n",
    "print(b)\n",
    "c = x - y\n",
    "print(c)"
   ]
  }
 ],
 "metadata": {
  "kernelspec": {
   "display_name": "Python 3",
   "language": "python",
   "name": "python3"
  },
  "language_info": {
   "codemirror_mode": {
    "name": "ipython",
    "version": 3
   },
   "file_extension": ".py",
   "mimetype": "text/x-python",
   "name": "python",
   "nbconvert_exporter": "python",
   "pygments_lexer": "ipython3",
   "version": "3.7.0"
  }
 },
 "nbformat": 4,
 "nbformat_minor": 2
}
