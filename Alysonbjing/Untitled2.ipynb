{
 "cells": [
  {
   "cell_type": "markdown",
   "metadata": {},
   "source": [
    "# pandas读取Excel文件"
   ]
  },
  {
   "cell_type": "code",
   "execution_count": 3,
   "metadata": {},
   "outputs": [
    {
     "name": "stdout",
     "output_type": "stream",
     "text": [
      "  Name  Age City  Height\n",
      "0   小瑜   18   北京     162\n",
      "1   小明   20   上海     161\n",
      "2   小寒   22   广州     165\n",
      "3   小虹   24   深圳     166\n",
      "******************************************\n",
      "  Name  Age City  Height\n",
      "0   小瑜   18   北京     162\n",
      "1   小明   20   上海     161\n",
      "******************************************\n",
      "             Age      Height\n",
      "count   4.000000    4.000000\n",
      "mean   21.000000  163.500000\n",
      "std     2.581989    2.380476\n",
      "min    18.000000  161.000000\n",
      "25%    19.500000  161.750000\n",
      "50%    21.000000  163.500000\n",
      "75%    22.500000  165.250000\n",
      "max    24.000000  166.000000\n",
      "******************************************\n",
      "(4, 4)\n"
     ]
    }
   ],
   "source": [
    "import pandas as pd\n",
    "#读取Excel文件\n",
    "xls_file = pd.read_excel('E:/document/data1.xlsx')\n",
    "print(xls_file)\n",
    "print('******************************************')\n",
    "\n",
    "#读取表格前两行数据\n",
    "print(xls_file.head(2))\n",
    "print('******************************************')\n",
    "\n",
    "#描述文件中的数据性质\n",
    "print(xls_file.describe())\n",
    "print('******************************************')\n",
    "\n",
    "#显示数据格式\n",
    "print(xls_file.shape)"
   ]
  },
  {
   "cell_type": "markdown",
   "metadata": {},
   "source": [
    "# 构造一个函数，利用apply调用这个函数"
   ]
  },
  {
   "cell_type": "code",
   "execution_count": 14,
   "metadata": {},
   "outputs": [
    {
     "name": "stdout",
     "output_type": "stream",
     "text": [
      "  Name  Age City  Height\n",
      "0   小瑜   19   北京     162\n",
      "1   小明   21   上海     161\n",
      "2   小寒   23   广州     165\n",
      "3   小虹   25   深圳     166\n"
     ]
    }
   ],
   "source": [
    "def f(x):\n",
    "    return x + 1 \n",
    "\n",
    "xls_file['Age'] = xls_file['Age'].apply(f)\n",
    "print(xls_file)"
   ]
  },
  {
   "cell_type": "markdown",
   "metadata": {},
   "source": [
    "# 构造两个表格，进行合并，选择等操作"
   ]
  },
  {
   "cell_type": "code",
   "execution_count": 4,
   "metadata": {},
   "outputs": [
    {
     "name": "stdout",
     "output_type": "stream",
     "text": [
      "     a    b    c    d    e\n",
      "0  0.0  0.0  0.0  0.0  NaN\n",
      "1  0.0  0.0  0.0  0.0  NaN\n",
      "2  0.0  0.0  0.0  0.0  NaN\n",
      "3  0.0  0.0  0.0  0.0  NaN\n",
      "0  NaN  1.0  1.0  1.0  1.0\n",
      "1  NaN  1.0  1.0  1.0  1.0\n",
      "2  NaN  1.0  1.0  1.0  1.0\n",
      "3  NaN  1.0  1.0  1.0  1.0\n",
      "     a    b    c    d    b    c    d    e\n",
      "0  0.0  0.0  0.0  0.0  1.0  1.0  1.0  1.0\n",
      "1  0.0  0.0  0.0  0.0  1.0  1.0  1.0  1.0\n",
      "2  0.0  0.0  0.0  0.0  1.0  1.0  1.0  1.0\n",
      "3  0.0  0.0  0.0  0.0  1.0  1.0  1.0  1.0\n"
     ]
    },
    {
     "name": "stderr",
     "output_type": "stream",
     "text": [
      "E:\\anaconda1\\lib\\site-packages\\ipykernel_launcher.py:9: FutureWarning: Sorting because non-concatenation axis is not aligned. A future version\n",
      "of pandas will change to not sort by default.\n",
      "\n",
      "To accept the future behavior, pass 'sort=False'.\n",
      "\n",
      "To retain the current behavior and silence the warning, pass 'sort=True'.\n",
      "\n",
      "  if __name__ == '__main__':\n"
     ]
    }
   ],
   "source": [
    "import numpy as np\n",
    "import pandas as pd\n",
    "\n",
    "#定义两个表格\n",
    "data1 = pd.DataFrame(np.zeros((4,4)),columns = ['a','b','c','d'])\n",
    "data2 = pd.DataFrame(np.ones((4,4)),columns = ['b','c','d','e'])\n",
    "\n",
    "#上下合并，依照column进行纵向合并\n",
    "data3 = pd.concat([data1,data2],axis = 0,join = 'outer')\n",
    "print(data3)\n",
    "#左右合并，依照column进行横向合并\n",
    "data4 = pd.concat([data1,data2],axis = 1,join = 'inner')\n",
    "print(data4)\n"
   ]
  },
  {
   "cell_type": "markdown",
   "metadata": {},
   "source": [
    "# 合并 索引 删除 切片"
   ]
  },
  {
   "cell_type": "code",
   "execution_count": 26,
   "metadata": {},
   "outputs": [
    {
     "name": "stdout",
     "output_type": "stream",
     "text": [
      "  Name  Age City  Height\n",
      "0   小瑜   18   北京     162\n",
      "1   小明   20   上海     161\n",
      "2   小寒   22   广州     165\n",
      "3   小虹   24   深圳     166\n",
      "******************************************\n",
      "  Name  weight garde  score\n",
      "0   小瑜      45     一     90\n",
      "1   小明      50     三     95\n",
      "2   小寒      55     四     89\n",
      "3   小虹      58     二     85\n",
      "******************************************\n",
      "  Name  Age City  Height  weight garde  score\n",
      "0   小瑜   18   北京     162      45     一     90\n",
      "1   小明   20   上海     161      50     三     95\n",
      "2   小寒   22   广州     165      55     四     89\n",
      "3   小虹   24   深圳     166      58     二     85\n",
      "  Name City\n",
      "0   小瑜   北京\n",
      "1   小明   上海\n",
      "2   小寒   广州\n",
      "3   小虹   深圳\n",
      "  Name  Age\n",
      "1   小明   20\n",
      "2   小寒   22\n",
      "  Name  Age City  Height  weight  score\n",
      "0   小瑜   18   北京     162      45     90\n",
      "1   小明   20   上海     161      50     95\n",
      "2   小寒   22   广州     165      55     89\n",
      "3   小虹   24   深圳     166      58     85\n",
      "  Name  Age City  Height  weight  score\n",
      "0   小瑜   18   北京     162       0     90\n",
      "1   小明   20   上海     161       0     95\n",
      "2   小寒   22   广州     165       1     89\n",
      "3   小虹   24   深圳     166       1     85\n"
     ]
    }
   ],
   "source": [
    "import pandas as pd\n",
    "#读取Excel文件\n",
    "xls_file_1 = pd.read_excel('E:/document/data1.xlsx')\n",
    "print(xls_file_1)\n",
    "print('******************************************')\n",
    "xls_file_2 = pd.read_excel('E:/document/data2.xlsx')\n",
    "print(xls_file_2)\n",
    "print('******************************************')\n",
    "\n",
    "#根据Name关键字合并\n",
    "data5 = pd.merge(xls_file_1,xls_file_2,on = 'Name')\n",
    "print(data5)\n",
    "\n",
    "#索引每个人对应的城市\n",
    "print(xls_file_1[['Name','City']])\n",
    "\n",
    "#切片选择\n",
    "print(xls_file_1.iloc[1:3,0:2])\n",
    "\n",
    "#删除某一列数据\n",
    "data6 = data5.drop(['garde'],axis = 1)\n",
    "print(data6)\n",
    "\n",
    "#将体重大于100的映射为1，小于100的映射为0\n",
    "def func1(number):\n",
    "    return 1 if number > 50 else 0\n",
    "\n",
    "data6['weight'] = data6['weight'].map(func1)\n",
    "print(data6)"
   ]
  },
  {
   "cell_type": "markdown",
   "metadata": {},
   "source": [
    "# datetime"
   ]
  },
  {
   "cell_type": "code",
   "execution_count": 28,
   "metadata": {},
   "outputs": [
    {
     "name": "stdout",
     "output_type": "stream",
     "text": [
      "2019-04-02 20:29:54.945857\n"
     ]
    }
   ],
   "source": [
    "import pandas as pd\n",
    "from datetime import datetime\n",
    "#获取当前时间\n",
    "now  = datetime.now()\n",
    "print(now)"
   ]
  }
 ],
 "metadata": {
  "kernelspec": {
   "display_name": "Python 3",
   "language": "python",
   "name": "python3"
  },
  "language_info": {
   "codemirror_mode": {
    "name": "ipython",
    "version": 3
   },
   "file_extension": ".py",
   "mimetype": "text/x-python",
   "name": "python",
   "nbconvert_exporter": "python",
   "pygments_lexer": "ipython3",
   "version": "3.7.0"
  }
 },
 "nbformat": 4,
 "nbformat_minor": 2
}
