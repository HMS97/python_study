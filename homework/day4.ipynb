{
 "cells": [
  {
   "cell_type": "markdown",
   "metadata": {},
   "source": [
    "# 数据清洗\n",
    "## 将hancheng.csv用pandas清洗\n",
    "## 缺失值统一替换成-99\n",
    "## 时间转换为datatime格式，增加年，月，日 三列 从datatime列分出来\n",
    "## 除了名字都转换成int or float格式\n",
    "## 可以用df.describe() 看每一列的格式\n",
    "## 把带有大于小于号的奇奇怪怪的换成合理的\n",
    "## 自己看数据清洗的规范和步骤之类的"
   ]
  },
  {
   "cell_type": "code",
   "execution_count": null,
   "metadata": {},
   "outputs": [],
   "source": []
  }
 ],
 "metadata": {
  "kernelspec": {
   "display_name": "Python 3",
   "language": "python",
   "name": "python3"
  },
  "language_info": {
   "codemirror_mode": {
    "name": "ipython",
    "version": 3
   },
   "file_extension": ".py",
   "mimetype": "text/x-python",
   "name": "python",
   "nbconvert_exporter": "python",
   "pygments_lexer": "ipython3",
   "version": "3.6.5"
  }
 },
 "nbformat": 4,
 "nbformat_minor": 2
}
