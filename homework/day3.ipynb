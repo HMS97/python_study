{
 "cells": [
  {
   "cell_type": "markdown",
   "metadata": {},
   "source": [
    "\n",
    "# 三、task（这两个东西是最基础的东西，都很好用且强大）\n",
    "\n",
    "### 1、numpy(核心)\n",
    "* 1 用numpy 创建一个5 *5 的 随机数矩阵\n",
    "* 2 查看矩阵的size和shape\n",
    "* 3 矩阵索引，获取矩阵的固定一行，固定一列\n",
    "* 4 矩阵运算 两个随机矩阵的加减乘除\n",
    "* 5 创建一个二维数组，其中边界值为1，其余值为0(提示: array[1:-1, 1:-1])\n",
    "* 6 对一个5x5的随机矩阵做归一化处理(提示: (x - min) / (max - min))\n",
    "* 7 list to array\n",
    "* 8 reshape\n",
    "\n",
    "### 2、pandas（重要）\n",
    "* 1 用pandas 读取csv或者excel文件（hancheng.csv），处理之后再保存\n",
    "* 2 head，describe，apply,shape，concat\n",
    "* 3 索引，切片，选择，删除，map,merge  (不用非得搞我给的csv，符合函数运行条件的都可以)\n",
    "* 4 datatime 时间处理\n"
   ]
  },
  {
   "cell_type": "code",
   "execution_count": null,
   "metadata": {},
   "outputs": [],
   "source": []
  }
 ],
 "metadata": {
  "kernelspec": {
   "display_name": "Python 3",
   "language": "python",
   "name": "python3"
  },
  "language_info": {
   "codemirror_mode": {
    "name": "ipython",
    "version": 3
   },
   "file_extension": ".py",
   "mimetype": "text/x-python",
   "name": "python",
   "nbconvert_exporter": "python",
   "pygments_lexer": "ipython3",
   "version": "3.6.5"
  }
 },
 "nbformat": 4,
 "nbformat_minor": 2
}
