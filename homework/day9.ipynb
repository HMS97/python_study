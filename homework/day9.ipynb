{
 "cells": [
  {
   "cell_type": "markdown",
   "metadata": {},
   "source": [
    "# 1、熟悉mv，cp，cd等一些基础linux指令\n",
    "# 2、在当前root下创建属于自己的用户名,然后用mobaxterm用创建的用户名登陆。\n",
    "# 3、在该台服务器上和用户名下安装jupyter notebook 应用。设置端口与密码，可以从远程登陆。(用pip 安装)\n",
    " ##      port set:\n",
    "         sunna: 8888\n",
    "         cuisaijia : 8887\n",
    "         lichenlu : 8880\n",
    "         gebingjing : 8890\n",
    "         chenjuan : 8870"
   ]
  },
  {
   "cell_type": "code",
   "execution_count": null,
   "metadata": {},
   "outputs": [],
   "source": []
  }
 ],
 "metadata": {
  "kernelspec": {
   "display_name": "Python 3",
   "language": "python",
   "name": "python3"
  },
  "language_info": {
   "codemirror_mode": {
    "name": "ipython",
    "version": 3
   },
   "file_extension": ".py",
   "mimetype": "text/x-python",
   "name": "python",
   "nbconvert_exporter": "python",
   "pygments_lexer": "ipython3",
   "version": "3.6.5"
  }
 },
 "nbformat": 4,
 "nbformat_minor": 2
}
