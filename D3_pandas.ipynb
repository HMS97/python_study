{
 "cells": [
  {
   "cell_type": "code",
   "execution_count": 20,
   "metadata": {},
   "outputs": [
    {
     "data": {
      "text/plain": [
       "'C:\\\\Users\\\\Lenovo'"
      ]
     },
     "execution_count": 20,
     "metadata": {},
     "output_type": "execute_result"
    }
   ],
   "source": [
    "import pandas as pd\n",
    "import numpy as np\n",
    "import os\n",
    "os.getcwd()\n",
    "#xuesheng = pd.read_csv(hancheng.csv)\n",
    "#xuesheng = pd.read_csv(\"https://github.com/wuchangsheng951/python_study/hancheng.csv\",header=None)\n",
    "#xuesheng.head(10)    "
   ]
  },
  {
   "cell_type": "code",
   "execution_count": 35,
   "metadata": {},
   "outputs": [
    {
     "name": "stdout",
     "output_type": "stream",
     "text": [
      "   school   姓名 性别          生日  年龄    裸右   裸左 带镜右眼 带镜左眼  电脑验光右      ...       \\\n",
      "0  junior  张熙涵  男   2000/3/25  18  0.08  1.0  NaN  NaN    NaN      ...        \n",
      "1  junior   郭鑫  男  1999/12/22  18  0.20  0.1  0.5  0.1  -3.25      ...        \n",
      "2  junior  郭佳宝  男   1999/8/27  18  1.00  0.3  NaN  NaN    NaN      ...        \n",
      "3  junior  丰妍玥  女  1999/12/13  18  0.30  0.4   缺失   缺失   2.25      ...        \n",
      "\n",
      "  Unnamed: 233 Unnamed: 234 Unnamed: 235 Unnamed: 236  Unnamed: 237  \\\n",
      "0          NaN          NaN          NaN          NaN           NaN   \n",
      "1          NaN          NaN          NaN          NaN           NaN   \n",
      "2          NaN          NaN          NaN          NaN           NaN   \n",
      "3          NaN          NaN          NaN          NaN           NaN   \n",
      "\n",
      "   Unnamed: 238  Unnamed: 239  Unnamed: 240  Unnamed: 241  Unnamed: 242  \n",
      "0           NaN           NaN           NaN           NaN           NaN  \n",
      "1           NaN           NaN           NaN           NaN           NaN  \n",
      "2           NaN           NaN           NaN           NaN           NaN  \n",
      "3           NaN           NaN           NaN           NaN           NaN  \n",
      "\n",
      "[4 rows x 243 columns]\n",
      "             裸右        裸左  Unnamed: 14  Unnamed: 15  Unnamed: 16  Unnamed: 17  \\\n",
      "count  4.000000  4.000000          0.0          0.0          0.0          0.0   \n",
      "mean   0.395000  0.450000          NaN          NaN          NaN          NaN   \n",
      "std    0.413239  0.387298          NaN          NaN          NaN          NaN   \n",
      "min    0.080000  0.100000          NaN          NaN          NaN          NaN   \n",
      "25%    0.170000  0.250000          NaN          NaN          NaN          NaN   \n",
      "50%    0.250000  0.350000          NaN          NaN          NaN          NaN   \n",
      "75%    0.475000  0.550000          NaN          NaN          NaN          NaN   \n",
      "max    1.000000  1.000000          NaN          NaN          NaN          NaN   \n",
      "\n",
      "       Unnamed: 18  Unnamed: 19  Unnamed: 20  Unnamed: 21      ...       \\\n",
      "count          0.0          0.0          0.0          0.0      ...        \n",
      "mean           NaN          NaN          NaN          NaN      ...        \n",
      "std            NaN          NaN          NaN          NaN      ...        \n",
      "min            NaN          NaN          NaN          NaN      ...        \n",
      "25%            NaN          NaN          NaN          NaN      ...        \n",
      "50%            NaN          NaN          NaN          NaN      ...        \n",
      "75%            NaN          NaN          NaN          NaN      ...        \n",
      "max            NaN          NaN          NaN          NaN      ...        \n",
      "\n",
      "       Unnamed: 233  Unnamed: 234  Unnamed: 235  Unnamed: 236  Unnamed: 237  \\\n",
      "count           0.0           0.0           0.0           0.0           0.0   \n",
      "mean            NaN           NaN           NaN           NaN           NaN   \n",
      "std             NaN           NaN           NaN           NaN           NaN   \n",
      "min             NaN           NaN           NaN           NaN           NaN   \n",
      "25%             NaN           NaN           NaN           NaN           NaN   \n",
      "50%             NaN           NaN           NaN           NaN           NaN   \n",
      "75%             NaN           NaN           NaN           NaN           NaN   \n",
      "max             NaN           NaN           NaN           NaN           NaN   \n",
      "\n",
      "       Unnamed: 238  Unnamed: 239  Unnamed: 240  Unnamed: 241  Unnamed: 242  \n",
      "count           0.0           0.0           0.0           0.0           0.0  \n",
      "mean            NaN           NaN           NaN           NaN           NaN  \n",
      "std             NaN           NaN           NaN           NaN           NaN  \n",
      "min             NaN           NaN           NaN           NaN           NaN  \n",
      "25%             NaN           NaN           NaN           NaN           NaN  \n",
      "50%             NaN           NaN           NaN           NaN           NaN  \n",
      "75%             NaN           NaN           NaN           NaN           NaN  \n",
      "max             NaN           NaN           NaN           NaN           NaN  \n",
      "\n",
      "[8 rows x 231 columns]\n"
     ]
    }
   ],
   "source": [
    "xuesheng = pd.DataFrame(pd.read_csv('hancheng.csv'))\n",
    "df = xuesheng.head(4)\n",
    "print(df)\n",
    "print(df.describe())"
   ]
  },
  {
   "cell_type": "code",
   "execution_count": 36,
   "metadata": {},
   "outputs": [
    {
     "name": "stdout",
     "output_type": "stream",
     "text": [
      "    a   b   c   d\n",
      "0   0   1   2   3\n",
      "1   4   5   6   7\n",
      "2   8   9  10  11\n",
      "3  12  13  14  15\n"
     ]
    }
   ],
   "source": [
    "data=np.arange(0,16).reshape(4,4)\n",
    "data=pd.DataFrame(data,columns=['a','b','c','d'])\n",
    "def f(x):\n",
    "    return x+1\n",
    "print(data)"
   ]
  },
  {
   "cell_type": "code",
   "execution_count": 37,
   "metadata": {},
   "outputs": [
    {
     "name": "stdout",
     "output_type": "stream",
     "text": [
      "    a   b   c   d\n",
      "0   1   1   2   3\n",
      "1   5   5   6   7\n",
      "2   9   9  10  11\n",
      "3  13  13  14  15\n"
     ]
    }
   ],
   "source": [
    "data['a']=data['a'].apply(f)\n",
    "print(data)"
   ]
  },
  {
   "cell_type": "code",
   "execution_count": 39,
   "metadata": {},
   "outputs": [
    {
     "name": "stdout",
     "output_type": "stream",
     "text": [
      "    a   b   c   d\n",
      "0   1   1   2   3\n",
      "1   5   5   6   7\n",
      "2   9   9  10  11\n",
      "3  15  15  16  17\n"
     ]
    }
   ],
   "source": [
    "data.loc[3]=data.loc[3].apply(f)\n",
    "print(data)"
   ]
  },
  {
   "cell_type": "code",
   "execution_count": 40,
   "metadata": {},
   "outputs": [
    {
     "name": "stdout",
     "output_type": "stream",
     "text": [
      "(4, 4)\n"
     ]
    }
   ],
   "source": [
    "shp=data.shape\n",
    "print(shp)"
   ]
  },
  {
   "cell_type": "code",
   "execution_count": 41,
   "metadata": {},
   "outputs": [
    {
     "name": "stdout",
     "output_type": "stream",
     "text": [
      "      a     b     c     d     e     f     g     h\n",
      "0   1.0   1.0   2.0   3.0   NaN   NaN   NaN   NaN\n",
      "1   5.0   5.0   6.0   7.0   NaN   NaN   NaN   NaN\n",
      "2   9.0   9.0  10.0  11.0   NaN   NaN   NaN   NaN\n",
      "3  15.0  15.0  16.0  17.0   NaN   NaN   NaN   NaN\n",
      "0   NaN   NaN   NaN   NaN   0.0   1.0   2.0   3.0\n",
      "1   NaN   NaN   NaN   NaN   4.0   5.0   6.0   7.0\n",
      "2   NaN   NaN   NaN   NaN   8.0   9.0  10.0  11.0\n",
      "3   NaN   NaN   NaN   NaN  12.0  13.0  14.0  15.0\n"
     ]
    },
    {
     "name": "stderr",
     "output_type": "stream",
     "text": [
      "C:\\Users\\Lenovo\\Anaconda3\\lib\\site-packages\\ipykernel_launcher.py:3: FutureWarning: Sorting because non-concatenation axis is not aligned. A future version\n",
      "of pandas will change to not sort by default.\n",
      "\n",
      "To accept the future behavior, pass 'sort=False'.\n",
      "\n",
      "To retain the current behavior and silence the warning, pass 'sort=True'.\n",
      "\n",
      "  This is separate from the ipykernel package so we can avoid doing imports until\n"
     ]
    }
   ],
   "source": [
    "data1=np.arange(0,16).reshape(4,4)\n",
    "data1=pd.DataFrame(data1,columns=['e','f','g','h'])\n",
    "data2=pd.concat([data,data1])\n",
    "print(data2)"
   ]
  },
  {
   "cell_type": "code",
   "execution_count": 44,
   "metadata": {},
   "outputs": [
    {
     "data": {
      "text/plain": [
       "0     1\n",
       "1     5\n",
       "2     9\n",
       "3    15\n",
       "Name: a, dtype: int64"
      ]
     },
     "execution_count": 44,
     "metadata": {},
     "output_type": "execute_result"
    }
   ],
   "source": [
    "data['a']"
   ]
  },
  {
   "cell_type": "code",
   "execution_count": 46,
   "metadata": {},
   "outputs": [
    {
     "data": {
      "text/html": [
       "<div>\n",
       "<style scoped>\n",
       "    .dataframe tbody tr th:only-of-type {\n",
       "        vertical-align: middle;\n",
       "    }\n",
       "\n",
       "    .dataframe tbody tr th {\n",
       "        vertical-align: top;\n",
       "    }\n",
       "\n",
       "    .dataframe thead th {\n",
       "        text-align: right;\n",
       "    }\n",
       "</style>\n",
       "<table border=\"1\" class=\"dataframe\">\n",
       "  <thead>\n",
       "    <tr style=\"text-align: right;\">\n",
       "      <th></th>\n",
       "      <th>a</th>\n",
       "      <th>b</th>\n",
       "      <th>c</th>\n",
       "      <th>d</th>\n",
       "    </tr>\n",
       "  </thead>\n",
       "  <tbody>\n",
       "    <tr>\n",
       "      <th>1</th>\n",
       "      <td>5</td>\n",
       "      <td>5</td>\n",
       "      <td>6</td>\n",
       "      <td>7</td>\n",
       "    </tr>\n",
       "    <tr>\n",
       "      <th>2</th>\n",
       "      <td>9</td>\n",
       "      <td>9</td>\n",
       "      <td>10</td>\n",
       "      <td>11</td>\n",
       "    </tr>\n",
       "    <tr>\n",
       "      <th>3</th>\n",
       "      <td>15</td>\n",
       "      <td>15</td>\n",
       "      <td>16</td>\n",
       "      <td>17</td>\n",
       "    </tr>\n",
       "  </tbody>\n",
       "</table>\n",
       "</div>"
      ],
      "text/plain": [
       "    a   b   c   d\n",
       "1   5   5   6   7\n",
       "2   9   9  10  11\n",
       "3  15  15  16  17"
      ]
     },
     "execution_count": 46,
     "metadata": {},
     "output_type": "execute_result"
    }
   ],
   "source": [
    "data[1:]"
   ]
  },
  {
   "cell_type": "code",
   "execution_count": 47,
   "metadata": {},
   "outputs": [
    {
     "data": {
      "text/plain": [
       "a     9\n",
       "b     9\n",
       "c    10\n",
       "d    11\n",
       "Name: 2, dtype: int64"
      ]
     },
     "execution_count": 47,
     "metadata": {},
     "output_type": "execute_result"
    }
   ],
   "source": [
    "data.iloc[2]"
   ]
  },
  {
   "cell_type": "code",
   "execution_count": 50,
   "metadata": {},
   "outputs": [
    {
     "data": {
      "text/html": [
       "<div>\n",
       "<style scoped>\n",
       "    .dataframe tbody tr th:only-of-type {\n",
       "        vertical-align: middle;\n",
       "    }\n",
       "\n",
       "    .dataframe tbody tr th {\n",
       "        vertical-align: top;\n",
       "    }\n",
       "\n",
       "    .dataframe thead th {\n",
       "        text-align: right;\n",
       "    }\n",
       "</style>\n",
       "<table border=\"1\" class=\"dataframe\">\n",
       "  <thead>\n",
       "    <tr style=\"text-align: right;\">\n",
       "      <th></th>\n",
       "      <th>c</th>\n",
       "      <th>d</th>\n",
       "    </tr>\n",
       "  </thead>\n",
       "  <tbody>\n",
       "    <tr>\n",
       "      <th>0</th>\n",
       "      <td>2</td>\n",
       "      <td>3</td>\n",
       "    </tr>\n",
       "    <tr>\n",
       "      <th>1</th>\n",
       "      <td>6</td>\n",
       "      <td>7</td>\n",
       "    </tr>\n",
       "    <tr>\n",
       "      <th>2</th>\n",
       "      <td>10</td>\n",
       "      <td>11</td>\n",
       "    </tr>\n",
       "    <tr>\n",
       "      <th>3</th>\n",
       "      <td>16</td>\n",
       "      <td>17</td>\n",
       "    </tr>\n",
       "  </tbody>\n",
       "</table>\n",
       "</div>"
      ],
      "text/plain": [
       "    c   d\n",
       "0   2   3\n",
       "1   6   7\n",
       "2  10  11\n",
       "3  16  17"
      ]
     },
     "execution_count": 50,
     "metadata": {},
     "output_type": "execute_result"
    }
   ],
   "source": [
    "data.drop(['a','b'],axis=1)"
   ]
  },
  {
   "cell_type": "code",
   "execution_count": 4,
   "metadata": {},
   "outputs": [
    {
     "name": "stdout",
     "output_type": "stream",
     "text": [
      "   a  b k1  k2\n",
      "0  1  4  7  10\n",
      "1  2  5  8  11\n",
      "2  3  6  9  12\n"
     ]
    }
   ],
   "source": [
    "data3=pd.DataFrame({'a':['1','2','3'],'b':['4','5','6'],'k1':['7','8','9']})\n",
    "data4=pd.DataFrame({'a':['1','2','3'],'b':['4','5','6'],'k2':['10','11','12']})\n",
    "res = pd.merge(data3,data4)\n",
    "print(res)"
   ]
  },
  {
   "cell_type": "code",
   "execution_count": 3,
   "metadata": {},
   "outputs": [
    {
     "name": "stdout",
     "output_type": "stream",
     "text": [
      "2019-04-02 22:23:06.762032\n"
     ]
    }
   ],
   "source": [
    "import pandas as pd\n",
    "from datetime import datetime\n",
    "#获取当前时间\n",
    "now  = datetime.now()\n",
    "print(now)"
   ]
  },
  {
   "cell_type": "markdown",
   "metadata": {},
   "source": []
  }
 ],
 "metadata": {
  "kernelspec": {
   "display_name": "Python 3",
   "language": "python",
   "name": "python3"
  },
  "language_info": {
   "codemirror_mode": {
    "name": "ipython",
    "version": 3
   },
   "file_extension": ".py",
   "mimetype": "text/x-python",
   "name": "python",
   "nbconvert_exporter": "python",
   "pygments_lexer": "ipython3",
   "version": "3.7.0"
  }
 },
 "nbformat": 4,
 "nbformat_minor": 2
}
