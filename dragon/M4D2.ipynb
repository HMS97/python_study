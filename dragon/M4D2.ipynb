{
 "cells": [
  {
   "cell_type": "code",
   "execution_count": null,
   "metadata": {
    "collapsed": true
   },
   "outputs": [],
   "source": [
    "#列表、字典、元组\n",
    "from typing import Dict\n",
    "\n",
    "points = [60,70,80,90,100]      #列表list\n",
    "#用len()函数可以获得list元素的个数\n",
    "#除了计算索引位置外，还可以用-1做索引\n",
    "#用append追加元素 例如points.append(11)\n",
    "#insert插入 points.insert(位置,元素)\n",
    "#要删除list末尾的元素，用pop()方法 points.pop()\n",
    "#要删除指定位置的元素，用pop(i)方法，其中i是索引位置\n",
    "#要把某个元素替换成别的元素，可以直接赋值给对应的索引位置 points[1] = 22\n",
    "#list元素也可以是另一个list\n",
    "\n",
    "points = (50,60,70,80,90)       #元组tuple\n",
    "#tuple一旦初始化就不能修改\n",
    "#其他获取元素的方法和list是一样的\n",
    "#只有1个元素的tuple定义时必须加一个逗号,，来消除歧义\n",
    "\n",
    "d: Dict[str, int] = {'Michael': 95, 'Bob': 75, 'Tracy': 85}     #字典\n",
    "#放入\n",
    "d['Adam'] = 67\n",
    "#通过in判断key是否存在\n",
    "'Thomas' in d\n",
    "#要删除一个key，用pop(key)方法，对应的value也会从dict中删除\n",
    "d.pop('Bob')\n",
    "\n"
   ]
  },
  {
   "cell_type": "code",
   "execution_count": null,
   "metadata": {},
   "outputs": [],
   "source": [
    "#函数\n",
    "\n",
    "#定义一个函数要使用def语句，依次写出函数名、括号、括号中的参数和冒号:，然后，在缩进块中编写函数体，函数的返回值用return语句返回\n",
    "def my_sum(list):\n",
    "    x = sum(list(5))\n",
    "    return x\n",
    "\n",
    "def my_dict(d)\n",
    "    x = sum(dict.values(d))\n",
    "    return x\n"
   ]
  },
  {
   "cell_type": "code",
   "execution_count": null,
   "metadata": {},
   "outputs": [],
   "source": [
    "#break， continue递归\n",
    "i == 100 ; total == 0\n",
    "\n",
    "def yyy(i,total):\n",
    "    while i == 0 :\n",
    "        break\n",
    "        return total\n",
    "    else: return yyy(i-1,total+1)\n",
    "    \n",
    "def kkk(i,total):\n",
    "    while i == 0 :\n",
    "        break\n",
    "        return  total\n",
    "    if i == 50 :\n",
    "        return kkk(i-1,total)\n",
    "    else: return kkk(i-1,total)\n"
   ]
  },
  {
   "cell_type": "code",
   "execution_count": null,
   "metadata": {},
   "outputs": [],
   "source": [
    "#列表推导式\n",
    "\n",
    "list = [a for a in range(0,201) if a % 2 == 0 ]\n",
    "list2 = [a for a in range(0,201) if a % 3 == 0 ]"
   ]
  },
  {
   "cell_type": "code",
   "execution_count": null,
   "metadata": {},
   "outputs": [],
   "source": [
    "#集合 set\n",
    "\n",
    "#交集\n",
    "list3 = list((set(list).union(set(list2)))^(set(list)^set(list2)))\n",
    "print(ret_list)\n",
    "\n",
    "#并集\n",
    "list4 = list(set(list).union(set(list2)))\n",
    "print(list4)\n",
    "\n",
    "#差集\n",
    "ret_list5 = list(set(list)^set(list2))\n",
    "print(list5)"
   ]
  }
 ],
 "metadata": {
  "kernelspec": {
   "display_name": "Python 2",
   "language": "python",
   "name": "python2"
  },
  "language_info": {
   "codemirror_mode": {
    "name": "ipython",
    "version": 2
   },
   "file_extension": ".py",
   "mimetype": "text/x-python",
   "name": "python",
   "nbconvert_exporter": "python",
   "pygments_lexer": "ipython2",
   "version": "2.7.6"
  }
 },
 "nbformat": 4,
 "nbformat_minor": 0
}
