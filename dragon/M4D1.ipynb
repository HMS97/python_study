{
 "cells": [
  {
   "cell_type": "code",
   "execution_count": null,
   "metadata": {
    "collapsed": true
   },
   "outputs": [],
   "source": [
    "import numpy as np\n",
    "import random\n",
    "\n",
    "array = np.random((5,5))\n",
    "print(array)\n",
    "\n",
    "print('number of dim:',array.ndim)\n",
    "print('shape:',array.shape)\n",
    "print('size:',array.size)\n",
    "\n",
    "print(array[0][0])\n",
    "\n",
    "b = np.arange(4)\n",
    "c = array - b\n",
    "c = array + b\n",
    "c = array**2 #平方\n",
    "c = array * b\n",
    "c = array / b\n",
    "print(c)\n",
    "\n",
    "a = np.ones((99, 99))\n",
    "a[1:-1,1:-1] = 0\n",
    "\n",
    "s = np.random((5,5))\n",
    "smax, smin = s.max(), s.min()\n",
    "s = (s - smin)/(smax - smin)\n",
    "print(s)\n",
    "\n",
    "\n",
    "\n"
   ]
  }
 ],
 "metadata": {
  "kernelspec": {
   "display_name": "Python 2",
   "language": "python",
   "name": "python2"
  },
  "language_info": {
   "codemirror_mode": {
    "name": "ipython",
    "version": 2
   },
   "file_extension": ".py",
   "mimetype": "text/x-python",
   "name": "python",
   "nbconvert_exporter": "python",
   "pygments_lexer": "ipython2",
   "version": "2.7.6"
  }
 },
 "nbformat": 4,
 "nbformat_minor": 0
}
