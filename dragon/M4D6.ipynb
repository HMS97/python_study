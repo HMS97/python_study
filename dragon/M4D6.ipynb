{
 "cells": [
  {
   "cell_type": "code",
   "execution_count": 24,
   "metadata": {
    "collapsed": true
   },
   "outputs": [
    {
     "name": "stdout",
     "output_type": "stream",
     "text": [
      "      school    姓名 性别          生日  年龄    裸右    裸左 带镜右眼 带镜左眼    电脑验光右  ...  \\\n0     junior   张熙涵  男   2000/3/25  18  0.08  1.00  NaN  NaN      NaN  ...   \n1     junior    郭鑫  男  1999/12/22  18  0.20  0.10  0.5  0.1    -3.25  ...   \n2     junior   郭佳宝  男   1999/8/27  18  1.00  0.30  NaN  NaN      NaN  ...   \n3     junior   丰妍玥  女  1999/12/13  18  0.30  0.40  -99  -99     2.25  ...   \n4     junior   高康乐  男  2001/10/26  16  1.00  0.40  NaN  NaN      NaN  ...   \n5     junior   张宇洁  女   2000/9/21  17  0.20  0.12  0.8  0.8      NaN  ...   \n6     junior   孙雯楚  女   2000/5/28  18  0.30  0.15    1    1      NaN  ...   \n7     junior   张泽雨  女    2000/6/2  18  0.25  0.20    1    1      NaN  ...   \n8     junior   王元博  男   2000/1/24  18  1.00  1.00  NaN  NaN      NaN  ...   \n9     junior   曹泽会  男   2000/5/11  18  0.50  1.00  NaN  NaN       -1  ...   \n10    junior   杨家乐  男   2000/2/13  18  0.40  0.20  NaN  NaN     -1.5  ...   \n11    junior   乔世良  男  1999/12/14  18  0.15  0.14  0.8  0.4       -6  ...   \n12    junior    雷卓  女   2000/4/19  18  1.00  1.00  NaN  NaN      NaN  ...   \n13    junior   李天玲  女  1999/11/20  18  0.60  1.00  NaN  NaN       -2  ...   \n14    junior    王涛  男   1999/4/23  19  0.08  0.10  0.6  0.3  -10.375  ...   \n15    junior    王伟  男  1999/12/18  18  1.00  1.00  NaN  NaN      NaN  ...   \n16    junior    高蕰  男  2000/10/12  17  0.12  0.12  0.8  0.8      NaN  ...   \n17    junior   高国强  男   2000/5/30  18  1.00  1.00  NaN  NaN      NaN  ...   \n18    junior    雷霄  女    1998/3/7  20  0.50  0.40  -99  -99     0.25  ...   \n19    junior    马鑫  男   1999/6/27  19  0.15  0.12    1    1      NaN  ...   \n20    junior   吉泽阳  男   1999/9/23  18  0.25  0.30    1    1      NaN  ...   \n21    junior   高艺昭  女   1999/4/10  19  0.15  0.15    1    1      NaN  ...   \n22    junior   吴松哲  女  1999/10/15  18  0.15  0.12    1    1      NaN  ...   \n23    junior    李鹏  男  1998/12/23  19  0.40  0.50  NaN  NaN       -1  ...   \n24    junior   年桂欣  女   1999/9/18  18  0.15  0.25  0.8  0.8      NaN  ...   \n25    junior   孙雪萌  女    2000/6/4  18  1.00  1.00  NaN  NaN      NaN  ...   \n26    junior   段泽锐  男   2001/1/23  17  1.00  1.00  NaN  NaN      NaN  ...   \n27    junior   丁豪楠  男   2001/9/18  16  0.40  0.50    1    1      NaN  ...   \n28    junior   王璐瑶  女    2001/8/3  16  1.00  1.00  NaN  NaN      NaN  ...   \n29    junior    孙婷  女   2001/4/23  17  0.25  0.25    1    1      NaN  ...   \n...      ...   ... ..         ...  ..   ...   ...  ...  ...      ...  ...   \n1431  senior   樊亮琪  女   1996/4/11  22  0.25  0.20  0.6    1      -99  ...   \n1432  senior   王爽迪  女    1996/4/1  22  0.12  0.15    1    1      NaN  ...   \n1433  senior   韩伟鹏  男  1996/11/19  21  0.30  0.30    1    1      NaN  ...   \n1434  senior   刘鑫琦  男  1996/11/23  21  0.50  0.40  -99  -99      -99  ...   \n1435  senior    晋悦  女         -99  17  0.60  0.60  -99  -99    -1.25  ...   \n1436  senior    晋欢  女         -99  17  0.20  0.12  -99  -99     -4.5  ...   \n1437  senior    张璇  女         -99  16  1.00  0.60  NaN  NaN      NaN  ...   \n1438  senior    樊荣  女         -99  16  0.20  0.15    1    1      NaN  ...   \n1439  senior   张仙娟  女  1995/10/23  22  1.00  0.60  NaN  NaN      NaN  ...   \n1440  senior    尚欢  女  1995/12/20  22  1.00  1.00  NaN  NaN      NaN  ...   \n1441  senior   冯陈洁  女    1994/2/5  24  0.50  0.40  -99  -99       -5  ...   \n1442  senior    晋希  女         -99  17  0.40  0.40  -99  -99       -4  ...   \n1443  senior   贺竹颖  女         -99  15  0.20  0.40  -99  -99    -3.75  ...   \n1444  senior   郝思蒙  女         -99  17  0.30  0.30    1    1      NaN  ...   \n1445  senior   刘梦羽  女         -99  16  0.20  0.20  0.6  0.6    -4.75  ...   \n1446  senior  冀杨晨良  女         -99  16  0.15  0.60    1    1      NaN  ...   \n1447  senior   同夏利  女         -99  16  0.25  0.25  0.6    1      -99  ...   \n1448  senior   陈佳珠  女         -99  18  0.30  0.25    1  0.8      NaN  ...   \n1449  senior   鱼幸子  女         -99  18  0.30  0.20    1    1      NaN  ...   \n1450  senior   党鈺婷  女         -99  18  0.25  0.40    1    1      NaN  ...   \n1451  senior    陈晨  女    1996/8/9  21  0.15  0.15    1    1      NaN  ...   \n1452  senior   吴嘉洁  女         -99  18  0.08  0.20    1    1      NaN  ...   \n1453  senior   高玉荣  女    1996/1/6  22  0.15  0.10    1    1      NaN  ...   \n1454  senior   马金萌  女    1999/3/6  19  0.10  0.20    1    1      NaN  ...   \n1455  senior    高琳  女         -99  18  0.25  0.30  -99  -99       -4  ...   \n1456  senior    杨京  女         -99  18  1.00  1.00  NaN  NaN      NaN  ...   \n1457  senior    王洁  女  1995/10/15  22  0.40  0.40    1    1      NaN  ...   \n1458  senior    赵丹  女   1995/2/12  23  0.25  0.25  0.6  0.6       -6  ...   \n1459  senior   元秦峰  男   1998/9/10  19  0.20  0.25    1    1      NaN  ...   \n1460  senior    刘华  男  1996/10/23  17  0.60  0.50  -99  -99     -1.5  ...   \n\n     Unnamed: 233 Unnamed: 234 Unnamed: 235 Unnamed: 236  Unnamed: 237  \\\n0             NaN          NaN          NaN          NaN           NaN   \n1             NaN          NaN          NaN          NaN           NaN   \n2             NaN          NaN          NaN          NaN           NaN   \n3             NaN          NaN          NaN          NaN           NaN   \n4             NaN          NaN          NaN          NaN           NaN   \n5             NaN          NaN          NaN          NaN           NaN   \n6             NaN          NaN          NaN          NaN           NaN   \n7             NaN          NaN          NaN          NaN           NaN   \n8             NaN          NaN          NaN          NaN           NaN   \n9             NaN          NaN          NaN          NaN           NaN   \n10            NaN          NaN          NaN          NaN           NaN   \n11            NaN          NaN          NaN          NaN           NaN   \n12            NaN          NaN          NaN          NaN           NaN   \n13            NaN          NaN          NaN          NaN           NaN   \n14            NaN          NaN          NaN          NaN           NaN   \n15            NaN          NaN          NaN          NaN           NaN   \n16            NaN          NaN          NaN          NaN           NaN   \n17            NaN          NaN          NaN          NaN           NaN   \n18            NaN          NaN          NaN          NaN           NaN   \n19            NaN          NaN          NaN          NaN           NaN   \n20            NaN          NaN          NaN          NaN           NaN   \n21            NaN          NaN          NaN          NaN           NaN   \n22            NaN          NaN          NaN          NaN           NaN   \n23            NaN          NaN          NaN          NaN           NaN   \n24            NaN          NaN          NaN          NaN           NaN   \n25            NaN          NaN          NaN          NaN           NaN   \n26            NaN          NaN          NaN          NaN           NaN   \n27            NaN          NaN          NaN          NaN           NaN   \n28            NaN          NaN          NaN          NaN           NaN   \n29            NaN          NaN          NaN          NaN           NaN   \n...           ...          ...          ...          ...           ...   \n1431          NaN          NaN          NaN          NaN           NaN   \n1432          NaN          NaN          NaN          NaN           NaN   \n1433          NaN          NaN          NaN          NaN           NaN   \n1434          NaN          NaN          NaN          NaN           NaN   \n1435          NaN          NaN          NaN          NaN           NaN   \n1436          NaN          NaN          NaN          NaN           NaN   \n1437          NaN          NaN          NaN          NaN           NaN   \n1438          NaN          NaN          NaN          NaN           NaN   \n1439          NaN          NaN          NaN          NaN           NaN   \n1440          NaN          NaN          NaN          NaN           NaN   \n1441          NaN          NaN          NaN          NaN           NaN   \n1442          NaN          NaN          NaN          NaN           NaN   \n1443          NaN          NaN          NaN          NaN           NaN   \n1444          NaN          NaN          NaN          NaN           NaN   \n1445          NaN          NaN          NaN          NaN           NaN   \n1446          NaN          NaN          NaN          NaN           NaN   \n1447          NaN          NaN          NaN          NaN           NaN   \n1448          NaN          NaN          NaN          NaN           NaN   \n1449          NaN          NaN          NaN          NaN           NaN   \n1450          NaN          NaN          NaN          NaN           NaN   \n1451          NaN          NaN          NaN          NaN           NaN   \n1452          NaN          NaN          NaN          NaN           NaN   \n1453          NaN          NaN          NaN          NaN           NaN   \n1454          NaN          NaN          NaN          NaN           NaN   \n1455          NaN          NaN          NaN          NaN           NaN   \n1456          NaN          NaN          NaN          NaN           NaN   \n1457          NaN          NaN          NaN          NaN           NaN   \n1458          NaN          NaN          NaN          NaN           NaN   \n1459          NaN          NaN          NaN          NaN           NaN   \n1460          NaN          NaN          NaN          NaN           NaN   \n\n      Unnamed: 238  Unnamed: 239  Unnamed: 240  Unnamed: 241  Unnamed: 242  \n0              NaN           NaN           NaN           NaN           NaN  \n1              NaN           NaN           NaN           NaN           NaN  \n2              NaN           NaN           NaN           NaN           NaN  \n3              NaN           NaN           NaN           NaN           NaN  \n4              NaN           NaN           NaN           NaN           NaN  \n5              NaN           NaN           NaN           NaN           NaN  \n6              NaN           NaN           NaN           NaN           NaN  \n7              NaN           NaN           NaN           NaN           NaN  \n8              NaN           NaN           NaN           NaN           NaN  \n9              NaN           NaN           NaN           NaN           NaN  \n10             NaN           NaN           NaN           NaN           NaN  \n11             NaN           NaN           NaN           NaN           NaN  \n12             NaN           NaN           NaN           NaN           NaN  \n13             NaN           NaN           NaN           NaN           NaN  \n14             NaN           NaN           NaN           NaN           NaN  \n15             NaN           NaN           NaN           NaN           NaN  \n16             NaN           NaN           NaN           NaN           NaN  \n17             NaN           NaN           NaN           NaN           NaN  \n18             NaN           NaN           NaN           NaN           NaN  \n19             NaN           NaN           NaN           NaN           NaN  \n20             NaN           NaN           NaN           NaN           NaN  \n21             NaN           NaN           NaN           NaN           NaN  \n22             NaN           NaN           NaN           NaN           NaN  \n23             NaN           NaN           NaN           NaN           NaN  \n24             NaN           NaN           NaN           NaN           NaN  \n25             NaN           NaN           NaN           NaN           NaN  \n26             NaN           NaN           NaN           NaN           NaN  \n27             NaN           NaN           NaN           NaN           NaN  \n28             NaN           NaN           NaN           NaN           NaN  \n29             NaN           NaN           NaN           NaN           NaN  \n...            ...           ...           ...           ...           ...  \n1431           NaN           NaN           NaN           NaN           NaN  \n1432           NaN           NaN           NaN           NaN           NaN  \n1433           NaN           NaN           NaN           NaN           NaN  \n1434           NaN           NaN           NaN           NaN           NaN  \n1435           NaN           NaN           NaN           NaN           NaN  \n1436           NaN           NaN           NaN           NaN           NaN  \n1437           NaN           NaN           NaN           NaN           NaN  \n1438           NaN           NaN           NaN           NaN           NaN  \n1439           NaN           NaN           NaN           NaN           NaN  \n1440           NaN           NaN           NaN           NaN           NaN  \n1441           NaN           NaN           NaN           NaN           NaN  \n1442           NaN           NaN           NaN           NaN           NaN  \n1443           NaN           NaN           NaN           NaN           NaN  \n1444           NaN           NaN           NaN           NaN           NaN  \n1445           NaN           NaN           NaN           NaN           NaN  \n1446           NaN           NaN           NaN           NaN           NaN  \n1447           NaN           NaN           NaN           NaN           NaN  \n1448           NaN           NaN           NaN           NaN           NaN  \n1449           NaN           NaN           NaN           NaN           NaN  \n1450           NaN           NaN           NaN           NaN           NaN  \n1451           NaN           NaN           NaN           NaN           NaN  \n1452           NaN           NaN           NaN           NaN           NaN  \n1453           NaN           NaN           NaN           NaN           NaN  \n1454           NaN           NaN           NaN           NaN           NaN  \n1455           NaN           NaN           NaN           NaN           NaN  \n1456           NaN           NaN           NaN           NaN           NaN  \n1457           NaN           NaN           NaN           NaN           NaN  \n1458           NaN           NaN           NaN           NaN           NaN  \n1459           NaN           NaN           NaN           NaN           NaN  \n1460           NaN           NaN           NaN           NaN           NaN  \n\n[1461 rows x 243 columns]\n"
     ]
    }
   ],
   "source": [
    "import numpy as np\n",
    "import pandas as pd\n",
    "\n",
    "df = pd.read_csv('hancheng.csv')\n",
    "df.replace('缺失',-99,inplace = True)\n",
    "\n",
    "print(df)"
   ]
  },
  {
   "cell_type": "code",
   "execution_count": null,
   "metadata": {},
   "outputs": [],
   "source": [
    "import pandas as pd\n",
    "\n",
    "df = pd.read_csv('hancheng.csv')\n",
    "df['生日'].heade()\n",
    "df['年'] = pd.to_datetime(df['生日'],format=\"%y\")\n",
    "df['月'] = pd.to_datetime(df['生日'],format=\"%m\")\n",
    "df['日'] = pd.to_datetime(df['生日'],format=\"%d\")\n",
    "\n",
    "df"
   ]
  },
  {
   "cell_type": "code",
   "execution_count": null,
   "metadata": {},
   "outputs": [],
   "source": [
    "import pandas as pd\n",
    "\n",
    "df = pd.read_csv('hancheng.csv')\n",
    "df.dtypes\n",
    "\n",
    "df['年龄'] = df['年龄'].astype('int')\n",
    "df['裸右'] = df['裸右'].astype('float')\n",
    "df['裸左'] = df['裸左'].astype('float')\n",
    "df['带镜右眼'] = df['带镜右眼'].astype('float')\n",
    "df['带镜左眼'] = df['带镜左眼'].astype('float')\n",
    "df['电脑验光右'] = df['电脑验光右'].astype('float')\n",
    "df['电脑验光左'] = df['电脑验光左'].astype('float')\n",
    "df['这一个戴镜时间'] = df['这一个戴镜时间'].astype('float')\n",
    "df['总戴镜时间'] = df['总戴镜时间'].astype('float')\n",
    "\n",
    "df"
   ]
  },
  {
   "cell_type": "code",
   "execution_count": null,
   "metadata": {},
   "outputs": [],
   "source": [
    "import pandas as pd\n",
    "\n",
    "df = pd.read_csv('hancheng.csv')\n",
    "df['这一个戴镜时间'].replace('＜0.5', 0.5, inplace = True)\n",
    "df['总戴镜时间'].replace('＜0.5', 0.5, inplace = True)\n",
    "\n",
    "df"
   ]
  }
 ],
 "metadata": {
  "kernelspec": {
   "display_name": "Python 2",
   "language": "python",
   "name": "python2"
  },
  "language_info": {
   "codemirror_mode": {
    "name": "ipython",
    "version": 2
   },
   "file_extension": ".py",
   "mimetype": "text/x-python",
   "name": "python",
   "nbconvert_exporter": "python",
   "pygments_lexer": "ipython2",
   "version": "2.7.6"
  }
 },
 "nbformat": 4,
 "nbformat_minor": 0
}
