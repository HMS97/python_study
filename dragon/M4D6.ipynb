{
 "cells": [
  {
   "cell_type": "code",
   "execution_count": null,
   "metadata": {
    "collapsed": true
   },
   "outputs": [],
   "source": [
    "import numpy as np\n",
    "import pandas as pd\n",
    "\n",
    "df = pd.read_csv('hancheng.csv')\n",
    "df.replace('缺失',-99,inplace = True)\n",
    "\n",
    "df"
   ]
  },
  {
   "cell_type": "code",
   "execution_count": null,
   "metadata": {},
   "outputs": [],
   "source": [
    "import pandas as pd\n",
    "\n",
    "df = pd.read_csv('hancheng.csv')\n",
    "df['生日'].heade()\n",
    "df['年'] = pd.to_datetime(df['生日'],format=\"%y\")\n",
    "df['月'] = pd.to_datetime(df['生日'],format=\"%m\")\n",
    "df['日'] = pd.to_datetime(df['生日'],format=\"%d\")\n",
    "\n",
    "df"
   ]
  },
  {
   "cell_type": "code",
   "execution_count": null,
   "metadata": {},
   "outputs": [],
   "source": [
    "import pandas as pd\n",
    "\n",
    "df = pd.read_csv('hancheng.csv')\n",
    "df.dtypes\n",
    "\n",
    "df['年龄'] = df['年龄'].astype('int')\n",
    "df['裸右'] = df['裸右'].astype('float')\n",
    "df['裸左'] = df['裸左'].astype('float')\n",
    "df['带镜右眼'] = df['带镜右眼'].astype('float')\n",
    "df['带镜左眼'] = df['带镜左眼'].astype('float')\n",
    "df['电脑验光右'] = df['电脑验光右'].astype('float')\n",
    "df['电脑验光左'] = df['电脑验光左'].astype('float')\n",
    "df['这一个戴镜时间'] = df['这一个戴镜时间'].astype('float')\n",
    "df['总戴镜时间'] = df['总戴镜时间'].astype('float')\n",
    "\n",
    "df"
   ]
  },
  {
   "cell_type": "code",
   "execution_count": null,
   "metadata": {},
   "outputs": [],
   "source": [
    "import pandas as pd\n",
    "\n",
    "df = pd.read_csv('hancheng.csv')\n",
    "df['这一个戴镜时间'].replace('＜0.5', 0.5, inplace = True)\n",
    "df['总戴镜时间'].replace('＜0.5', 0.5, inplace = True)\n",
    "\n",
    "df"
   ]
  }
 ],
 "metadata": {
  "kernelspec": {
   "display_name": "Python 2",
   "language": "python",
   "name": "python2"
  },
  "language_info": {
   "codemirror_mode": {
    "name": "ipython",
    "version": 2
   },
   "file_extension": ".py",
   "mimetype": "text/x-python",
   "name": "python",
   "nbconvert_exporter": "python",
   "pygments_lexer": "ipython2",
   "version": "2.7.6"
  }
 },
 "nbformat": 4,
 "nbformat_minor": 0
}
